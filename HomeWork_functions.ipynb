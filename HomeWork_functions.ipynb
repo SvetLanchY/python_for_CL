{
  "nbformat": 4,
  "nbformat_minor": 0,
  "metadata": {
    "colab": {
      "name": "Python functions-checkpoint.ipynb",
      "provenance": [],
      "collapsed_sections": [],
      "include_colab_link": true
    },
    "kernelspec": {
      "display_name": "Python 3",
      "language": "python",
      "name": "python3"
    },
    "language_info": {
      "codemirror_mode": {
        "name": "ipython",
        "version": 3
      },
      "file_extension": ".py",
      "mimetype": "text/x-python",
      "name": "python",
      "nbconvert_exporter": "python",
      "pygments_lexer": "ipython3",
      "version": "3.8.2"
    }
  },
  "cells": [
    {
      "cell_type": "markdown",
      "metadata": {
        "id": "view-in-github",
        "colab_type": "text"
      },
      "source": [
        "<a href=\"https://colab.research.google.com/github/SvetLanchY/python_for_CL/blob/for-HW/HomeWork_functions.ipynb\" target=\"_parent\"><img src=\"https://colab.research.google.com/assets/colab-badge.svg\" alt=\"Open In Colab\"/></a>"
      ]
    },
    {
      "cell_type": "markdown",
      "metadata": {
        "id": "KwV1Pc4a7nxB"
      },
      "source": [
        "## как удобнее работать со строками: модуль string\n",
        "\n",
        "[как это работает](https://www.tutorialspoint.com/python-maketrans-and-translate-functions#:~:text=Python%20String%20maketrans(),of%20each%20character%20for%20translation.)"
      ]
    },
    {
      "cell_type": "code",
      "metadata": {
        "id": "jHNdzedVeJlG",
        "colab": {
          "base_uri": "https://localhost:8080/",
          "height": 71
        },
        "outputId": "0bca3c87-90a9-406a-9df1-ebe544fcaead"
      },
      "source": [
        "import string\n",
        "\n",
        "my_text = \"введите любую фразу, и побольше пунктуации! \"\n",
        "my_text = my_text.translate(str.maketrans('','',string.punctuation))\n",
        "print(my_text)"
      ],
      "execution_count": null,
      "outputs": [
        {
          "output_type": "stream",
          "text": [
            "введите любую фразу и побольше пунктуации \n"
          ],
          "name": "stdout"
        }
      ]
    },
    {
      "cell_type": "markdown",
      "metadata": {
        "id": "Yhw8-87X8s-J"
      },
      "source": [
        "## генераторы"
      ]
    },
    {
      "cell_type": "markdown",
      "metadata": {
        "id": "LOYUfNvgLoWa"
      },
      "source": [
        "**вспомним из предыдущих занятий:** когда мы создаём список, мы можем брать его элементы один за другим — это называется *итерацией*:"
      ]
    },
    {
      "cell_type": "code",
      "metadata": {
        "id": "W2vnkjMhMAXy",
        "colab": {
          "base_uri": "https://localhost:8080/",
          "height": 68
        },
        "outputId": "d37031b0-0c17-4139-997c-29bacb8859bc"
      },
      "source": [
        "test1 = [1, 2, 3]\n",
        "for i in test1 :\n",
        "    print(i)\n"
      ],
      "execution_count": null,
      "outputs": [
        {
          "output_type": "stream",
          "text": [
            "1\n",
            "2\n",
            "3\n"
          ],
          "name": "stdout"
        }
      ]
    },
    {
      "cell_type": "markdown",
      "metadata": {
        "id": "DULLPnQsOdzE"
      },
      "source": [
        "это же можно сделать, создав генератор функцией ```range()```: \n",
        "\n",
        "    у функции три аргумента: (начало,конец,шаг), конечный элемент не включается. \n",
        "    \n",
        "    Сейчас мы записали без шага, поэтому он по дефолту =1. "
      ]
    },
    {
      "cell_type": "code",
      "metadata": {
        "id": "rZSDKVCcOiua",
        "colab": {
          "base_uri": "https://localhost:8080/",
          "height": 85
        },
        "outputId": "0a44a4fe-2cd4-4484-c02c-b94bb8cf04ee"
      },
      "source": [
        "test2 = range(1,4) \n",
        "for i in test2 :\n",
        "    print(i)\n",
        "type(test2)\n"
      ],
      "execution_count": null,
      "outputs": [
        {
          "output_type": "stream",
          "text": [
            "1\n",
            "2\n",
            "3\n"
          ],
          "name": "stdout"
        },
        {
          "output_type": "execute_result",
          "data": {
            "text/plain": [
              "range"
            ]
          },
          "metadata": {
            "tags": []
          },
          "execution_count": 3
        }
      ]
    },
    {
      "cell_type": "code",
      "metadata": {
        "id": "5cDhW-64PyGw",
        "colab": {
          "base_uri": "https://localhost:8080/",
          "height": 119
        },
        "outputId": "b797b124-222c-4e76-8640-eaa14b363750"
      },
      "source": [
        "# давайте зададим шаг\n",
        "\n",
        "test3 = range (1,10,2) # от 1 до 10 с шагом в 2\n",
        "for i in test3 :\n",
        "    print(i)\n",
        "type(test3)"
      ],
      "execution_count": null,
      "outputs": [
        {
          "output_type": "stream",
          "text": [
            "1\n",
            "3\n",
            "5\n",
            "7\n",
            "9\n"
          ],
          "name": "stdout"
        },
        {
          "output_type": "execute_result",
          "data": {
            "text/plain": [
              "range"
            ]
          },
          "metadata": {
            "tags": []
          },
          "execution_count": 4
        }
      ]
    },
    {
      "cell_type": "markdown",
      "metadata": {
        "id": "g5WIfV1babNL"
      },
      "source": [
        "Заметим, что в предыдущих ячейках переменные test2  и test3 не были листами, в отличие от test1\n",
        "\n",
        "тип объектов test2 и test3 - это генератор.\n",
        "\n",
        "Но мы можем превратить генератор в нужный тип: лист, множество или (даже!) строку"
      ]
    },
    {
      "cell_type": "code",
      "metadata": {
        "id": "el_UbysU8vCb",
        "colab": {
          "base_uri": "https://localhost:8080/",
          "height": 153
        },
        "outputId": "69a33e80-fb16-4706-8cd4-0c379cde6fbb"
      },
      "source": [
        "new1 = range(0,20,5) # генератор, от нуля до 20 с шагом 5\n",
        "for i in new1:\n",
        "    print(i)\n",
        "\n",
        "print(\"сначала new1 - это\",type(new1)) # проверяем тип\n",
        "\n",
        "new1 = list(new1) # превращаем в лист\n",
        "print(\"теперь new1 - это\",type(new1), new1) # проверяем тип"
      ],
      "execution_count": null,
      "outputs": [
        {
          "output_type": "stream",
          "text": [
            "0\n",
            "5\n",
            "10\n",
            "15\n",
            "сначала new1 - это <class 'range'>\n",
            "теперь new1 - это <class 'list'> [0, 5, 10, 15]\n"
          ],
          "name": "stdout"
        }
      ]
    },
    {
      "cell_type": "code",
      "metadata": {
        "id": "VrnYWj-E8gkn",
        "outputId": "d35d4bde-5ee3-4d4c-f48b-52c1a20fa1eb"
      },
      "source": [
        "# превратим во множество\n",
        "new1 = range(0,20,5)\n",
        "new1 = set(new1)\n",
        "print(\"затем new1 - это\",type(new1), new1) # проверяем тип"
      ],
      "execution_count": null,
      "outputs": [
        {
          "output_type": "stream",
          "text": [
            "затем new1 - это <class 'set'> {0, 10, 5, 15}\n"
          ],
          "name": "stdout"
        }
      ]
    },
    {
      "cell_type": "code",
      "metadata": {
        "id": "sC20y9iaB11n",
        "colab": {
          "base_uri": "https://localhost:8080/",
          "height": 85
        },
        "outputId": "fa8f110a-28fe-4991-c8a4-569e2710ed5f"
      },
      "source": [
        "# классический способ использовать генератор\n",
        "for i in range(100): #чтобы не писать 100 значений вручную\n",
        "    if i%30 == 0:\n",
        "        print (i, \"делится на 30 без остатка\")"
      ],
      "execution_count": null,
      "outputs": [
        {
          "output_type": "stream",
          "text": [
            "0 делится на 30 без остатка\n",
            "30 делится на 30 без остатка\n",
            "60 делится на 30 без остатка\n",
            "90 делится на 30 без остатка\n"
          ],
          "name": "stdout"
        }
      ]
    },
    {
      "cell_type": "code",
      "metadata": {
        "id": "NgBAUfDRjlh8",
        "colab": {
          "base_uri": "https://localhost:8080/",
          "height": 34
        },
        "outputId": "ee80ad4b-394a-4155-b5bf-03fe091cf3f8"
      },
      "source": [
        "# генератор паролей\n",
        "\n",
        "import random\n",
        "passw = '' # предварительно создаем переменную для пароля, с типом \"строка\"\n",
        "\n",
        "#пусть в ней будет 12 символов: цифры и латинские буквы двух регистров\n",
        "\n",
        "for x in range(12): \n",
        "    passw = passw + random.choice('123456789qwertyuiopasdfghjklzxcvbnmQWERTYUIOPASDFGHJKLZXCVBNM')\n",
        "    # на каждом из 12 шагов выбираем рандомный символ из списка с букво-цифрами и добавляем в строку\n",
        "print(passw)\n",
        "\n",
        "# запустите ячейку несклько раз: пароли меняются"
      ],
      "execution_count": null,
      "outputs": [
        {
          "output_type": "stream",
          "text": [
            "5TElarDDAGJb\n"
          ],
          "name": "stdout"
        }
      ]
    },
    {
      "cell_type": "markdown",
      "metadata": {
        "id": "5C1viYNBKBxc"
      },
      "source": [
        "**подводя итог:**\n",
        "\n",
        "генераторы обычно используются, когда:\n",
        "* нужно создать объект из большого количества элементов (чтобы не задавать их вручную)\n",
        "* надо единожды пройтись по итерируемому объекту\n",
        "* есть потребность использовать \"шаги\" для повторения операции с элементами некоторого контецнера (списка, множества и тд)\n",
        "\n",
        "их особое свойство:\n",
        "- они сохраняют свое состояние между итерациями, но по ним можно итерироваться всего один раз\n",
        "\n",
        "- хранят только предыдущий элемент, предел и формулу, по которой вычисляется следующий элемент\n",
        "\n",
        "(подробнее о генераторах можно почитать [здесь](https://realpython.com/introduction-to-python-generators/). [И здесь](https://www.geeksforgeeks.org/use-yield-keyword-instead-return-keyword-python/))\n"
      ]
    },
    {
      "cell_type": "markdown",
      "metadata": {
        "id": "wbFFjClk8waN"
      },
      "source": [
        "## Функции\n",
        "\n",
        "\n",
        "Мы с вами написали много небольших программ. А что если вам нужно будет использовать эти программы снова и снова? Например, вы написали код, который хорошо обрабатывает и токенизирует текст. И у вас 1000 текстов, которые нужно обработать. А через месяц приедет еще 1500.\n",
        "\n",
        "    Писать строки кода снова?\n",
        "\n",
        "\n",
        "<img data-image-id=\"1*ZUSN2Xhq7MsEMjCvNOy-Zw.jpeg\" data-width=\"640\" data-height=\"480\" src=\"https://hackernoon.com/hn-images/1*ZUSN2Xhq7MsEMjCvNOy-Zw.jpeg\">\n"
      ]
    },
    {
      "cell_type": "markdown",
      "metadata": {
        "id": "6kMhXS8lKSam"
      },
      "source": [
        "нас спасут функции! \n",
        "\n",
        "Функция в python - это такой объект, который что-то принимает (иногда выполняет какое-то действие) и что-то возвращает.\n",
        "\n",
        "То, что принимает, называется *аргументом* и записывается в скобках. Аргументов может быть больше одного. \n",
        "\n",
        "То, что функция возвращает, называется *значением*.\n",
        "\n",
        "\n",
        "Обычно функция определяется с помощью инструкции ```def```, еще нужны скобки и двоеточие\n",
        "\n",
        "Давайте создадим самую простую функцию:"
      ]
    },
    {
      "cell_type": "code",
      "metadata": {
        "id": "L2cPPSNm8xaw"
      },
      "source": [
        "def hello():\n",
        "    print (\"hello =^_^=\")\n",
        "#return None"
      ],
      "execution_count": 19,
      "outputs": []
    },
    {
      "cell_type": "markdown",
      "metadata": {
        "id": "Mmb32yasZdzX"
      },
      "source": [
        "Функция может и не заканчиваться инструкцией return, при этом функция вернет значение None:"
      ]
    },
    {
      "cell_type": "code",
      "metadata": {
        "id": "nOu2GAWXN9b1",
        "colab": {
          "base_uri": "https://localhost:8080/"
        },
        "outputId": "3fdf861b-893b-41ce-9d43-89ac7b54ddf5"
      },
      "source": [
        "hello() # чтобы функция отработала, ее надо вызвать"
      ],
      "execution_count": 20,
      "outputs": [
        {
          "output_type": "stream",
          "text": [
            "hello =^_^=\n"
          ],
          "name": "stdout"
        }
      ]
    },
    {
      "cell_type": "code",
      "metadata": {
        "id": "4bNVEzUnOFPZ"
      },
      "source": [
        "#  усложним функцию\n",
        "\n",
        "\n",
        "def personal_hello():\n",
        "    name = input(\"Как Вас зовут?\")\n",
        "    print (\"Добрый день,\", name)\n"
      ],
      "execution_count": 21,
      "outputs": []
    },
    {
      "cell_type": "code",
      "metadata": {
        "id": "hrzq20zGOxX9",
        "colab": {
          "base_uri": "https://localhost:8080/",
          "height": 51
        },
        "outputId": "e63cdbd7-ef8d-4f46-985e-4da9cdf06550"
      },
      "source": [
        "personal_hello()"
      ],
      "execution_count": null,
      "outputs": [
        {
          "output_type": "stream",
          "text": [
            "Как Вас зовут?N\n",
            "Добрый день, N\n"
          ],
          "name": "stdout"
        }
      ]
    },
    {
      "cell_type": "code",
      "metadata": {
        "id": "3nt1yPVfOz6E"
      },
      "source": [
        "# функция с возвратом значения\n",
        "\n",
        "def add(x,y):\n",
        "    return x+y"
      ],
      "execution_count": 22,
      "outputs": []
    },
    {
      "cell_type": "code",
      "metadata": {
        "id": "Mi1_v9yKPNHu",
        "colab": {
          "base_uri": "https://localhost:8080/"
        },
        "outputId": "fed991be-b1d9-485d-e79d-b91ab0309682"
      },
      "source": [
        "add(50,5) # вызвали функцию, передав значения аргументов в скобках"
      ],
      "execution_count": 23,
      "outputs": [
        {
          "output_type": "execute_result",
          "data": {
            "text/plain": [
              "55"
            ]
          },
          "metadata": {
            "tags": []
          },
          "execution_count": 23
        }
      ]
    },
    {
      "cell_type": "code",
      "metadata": {
        "id": "KMjHqxSePUnZ",
        "colab": {
          "base_uri": "https://localhost:8080/",
          "height": 35
        },
        "outputId": "c23a2096-60d1-41dd-e2b3-45c30bfc18d1"
      },
      "source": [
        "add (\"давайте попробуем\",\" строки тоже\")"
      ],
      "execution_count": 24,
      "outputs": [
        {
          "output_type": "execute_result",
          "data": {
            "application/vnd.google.colaboratory.intrinsic+json": {
              "type": "string"
            },
            "text/plain": [
              "'давайте попробуем строки тоже'"
            ]
          },
          "metadata": {
            "tags": []
          },
          "execution_count": 24
        }
      ]
    },
    {
      "cell_type": "code",
      "metadata": {
        "id": "6q3wiVTAPgzW",
        "colab": {
          "base_uri": "https://localhost:8080/",
          "height": 256
        },
        "outputId": "88defa85-37b1-4eeb-c737-57d3b63e583d"
      },
      "source": [
        "add (5,\"а так\")"
      ],
      "execution_count": 27,
      "outputs": [
        {
          "output_type": "error",
          "ename": "TypeError",
          "evalue": "ignored",
          "traceback": [
            "\u001b[0;31m---------------------------------------------------------------------------\u001b[0m",
            "\u001b[0;31mTypeError\u001b[0m                                 Traceback (most recent call last)",
            "\u001b[0;32m<ipython-input-27-a0be4656a655>\u001b[0m in \u001b[0;36m<module>\u001b[0;34m()\u001b[0m\n\u001b[0;32m----> 1\u001b[0;31m \u001b[0madd\u001b[0m \u001b[0;34m(\u001b[0m\u001b[0;36m5\u001b[0m\u001b[0;34m,\u001b[0m\u001b[0;34m\"а так\"\u001b[0m\u001b[0;34m)\u001b[0m\u001b[0;34m\u001b[0m\u001b[0;34m\u001b[0m\u001b[0m\n\u001b[0m",
            "\u001b[0;32m<ipython-input-22-3899bdceb5ad>\u001b[0m in \u001b[0;36madd\u001b[0;34m(x, y)\u001b[0m\n\u001b[1;32m      2\u001b[0m \u001b[0;34m\u001b[0m\u001b[0m\n\u001b[1;32m      3\u001b[0m \u001b[0;32mdef\u001b[0m \u001b[0madd\u001b[0m\u001b[0;34m(\u001b[0m\u001b[0mx\u001b[0m\u001b[0;34m,\u001b[0m\u001b[0my\u001b[0m\u001b[0;34m)\u001b[0m\u001b[0;34m:\u001b[0m\u001b[0;34m\u001b[0m\u001b[0;34m\u001b[0m\u001b[0m\n\u001b[0;32m----> 4\u001b[0;31m     \u001b[0;32mreturn\u001b[0m \u001b[0mx\u001b[0m\u001b[0;34m+\u001b[0m\u001b[0my\u001b[0m\u001b[0;34m\u001b[0m\u001b[0;34m\u001b[0m\u001b[0m\n\u001b[0m",
            "\u001b[0;31mTypeError\u001b[0m: unsupported operand type(s) for +: 'int' and 'str'"
          ]
        }
      ]
    },
    {
      "cell_type": "code",
      "metadata": {
        "id": "fSJDQqkYPkGe",
        "colab": {
          "base_uri": "https://localhost:8080/",
          "height": 34
        },
        "outputId": "105a429b-0b2c-494f-a1fb-fd4da216c4f6"
      },
      "source": [
        "add([5,7],[1,1]) #  списки тоже можно складывать, все получится"
      ],
      "execution_count": null,
      "outputs": [
        {
          "output_type": "execute_result",
          "data": {
            "text/plain": [
              "[5, 7, 1, 1]"
            ]
          },
          "metadata": {
            "tags": []
          },
          "execution_count": 14
        }
      ]
    },
    {
      "cell_type": "code",
      "metadata": {
        "id": "WyN9iWJ7P8QC",
        "colab": {
          "base_uri": "https://localhost:8080/",
          "height": 34
        },
        "outputId": "ed2a3bec-5753-4995-f86f-5a741c24dcf6"
      },
      "source": [
        "add((1,3,5),(2,4,6)) # кортежи/таплы можно\n",
        "# type((1,3,5))"
      ],
      "execution_count": null,
      "outputs": [
        {
          "output_type": "execute_result",
          "data": {
            "text/plain": [
              "(1, 3, 5, 2, 4, 6)"
            ]
          },
          "metadata": {
            "tags": []
          },
          "execution_count": 15
        }
      ]
    },
    {
      "cell_type": "code",
      "metadata": {
        "id": "5rgPun4dPsj-",
        "colab": {
          "base_uri": "https://localhost:8080/",
          "height": 249
        },
        "outputId": "acaa84da-cb32-45f5-fad6-bb7118dc63ef"
      },
      "source": [
        "add({1,3,5},{2,4,6}) # а множества нельзя складывать так, как это делает add\n",
        "\n",
        "# а какой метод сработал бы со множествами?"
      ],
      "execution_count": null,
      "outputs": [
        {
          "output_type": "error",
          "ename": "TypeError",
          "evalue": "unsupported operand type(s) for +: 'set' and 'set'",
          "traceback": [
            "\u001b[0;31m---------------------------------------------------------------------------\u001b[0m",
            "\u001b[0;31mTypeError\u001b[0m                                 Traceback (most recent call last)",
            "\u001b[0;32m<ipython-input-17-777696467b0a>\u001b[0m in \u001b[0;36m<module>\u001b[0;34m\u001b[0m\n\u001b[0;32m----> 1\u001b[0;31m \u001b[0madd\u001b[0m\u001b[0;34m(\u001b[0m\u001b[0;34m{\u001b[0m\u001b[0;36m1\u001b[0m\u001b[0;34m,\u001b[0m\u001b[0;36m3\u001b[0m\u001b[0;34m,\u001b[0m\u001b[0;36m5\u001b[0m\u001b[0;34m}\u001b[0m\u001b[0;34m,\u001b[0m\u001b[0;34m{\u001b[0m\u001b[0;36m2\u001b[0m\u001b[0;34m,\u001b[0m\u001b[0;36m4\u001b[0m\u001b[0;34m,\u001b[0m\u001b[0;36m6\u001b[0m\u001b[0;34m}\u001b[0m\u001b[0;34m)\u001b[0m \u001b[0;31m# а множества нельзя складывать так, как это делает add\u001b[0m\u001b[0;34m\u001b[0m\u001b[0;34m\u001b[0m\u001b[0m\n\u001b[0m\u001b[1;32m      2\u001b[0m \u001b[0;34m\u001b[0m\u001b[0m\n\u001b[1;32m      3\u001b[0m \u001b[0;31m# а какой метод сработал бы со множествами?\u001b[0m\u001b[0;34m\u001b[0m\u001b[0;34m\u001b[0m\u001b[0;34m\u001b[0m\u001b[0m\n",
            "\u001b[0;32m<ipython-input-11-3899bdceb5ad>\u001b[0m in \u001b[0;36madd\u001b[0;34m(x, y)\u001b[0m\n\u001b[1;32m      2\u001b[0m \u001b[0;34m\u001b[0m\u001b[0m\n\u001b[1;32m      3\u001b[0m \u001b[0;32mdef\u001b[0m \u001b[0madd\u001b[0m\u001b[0;34m(\u001b[0m\u001b[0mx\u001b[0m\u001b[0;34m,\u001b[0m\u001b[0my\u001b[0m\u001b[0;34m)\u001b[0m\u001b[0;34m:\u001b[0m\u001b[0;34m\u001b[0m\u001b[0;34m\u001b[0m\u001b[0m\n\u001b[0;32m----> 4\u001b[0;31m     \u001b[0;32mreturn\u001b[0m \u001b[0mx\u001b[0m\u001b[0;34m+\u001b[0m\u001b[0my\u001b[0m\u001b[0;34m\u001b[0m\u001b[0;34m\u001b[0m\u001b[0m\n\u001b[0m",
            "\u001b[0;31mTypeError\u001b[0m: unsupported operand type(s) for +: 'set' and 'set'"
          ]
        }
      ]
    },
    {
      "cell_type": "code",
      "metadata": {
        "id": "I8xmwYnjP1G5",
        "colab": {
          "base_uri": "https://localhost:8080/",
          "height": 249
        },
        "outputId": "9aba6005-7923-4475-d467-f741c661f3b9"
      },
      "source": [
        "add({\"Jane\":27,\"Mary\":35},{\"Matthew\":30,\"Dennis\":20}) # и словари сложить не получится"
      ],
      "execution_count": null,
      "outputs": [
        {
          "output_type": "error",
          "ename": "TypeError",
          "evalue": "unsupported operand type(s) for +: 'dict' and 'dict'",
          "traceback": [
            "\u001b[0;31m---------------------------------------------------------------------------\u001b[0m",
            "\u001b[0;31mTypeError\u001b[0m                                 Traceback (most recent call last)",
            "\u001b[0;32m<ipython-input-16-94ea67566167>\u001b[0m in \u001b[0;36m<module>\u001b[0;34m\u001b[0m\n\u001b[0;32m----> 1\u001b[0;31m \u001b[0madd\u001b[0m\u001b[0;34m(\u001b[0m\u001b[0;34m{\u001b[0m\u001b[0;34m\"Jane\"\u001b[0m\u001b[0;34m:\u001b[0m\u001b[0;36m27\u001b[0m\u001b[0;34m,\u001b[0m\u001b[0;34m\"Mary\"\u001b[0m\u001b[0;34m:\u001b[0m\u001b[0;36m35\u001b[0m\u001b[0;34m}\u001b[0m\u001b[0;34m,\u001b[0m\u001b[0;34m{\u001b[0m\u001b[0;34m\"Matthew\"\u001b[0m\u001b[0;34m:\u001b[0m\u001b[0;36m30\u001b[0m\u001b[0;34m,\u001b[0m\u001b[0;34m\"Dennis\"\u001b[0m\u001b[0;34m:\u001b[0m\u001b[0;36m20\u001b[0m\u001b[0;34m}\u001b[0m\u001b[0;34m)\u001b[0m \u001b[0;31m# и словари сложить не получится\u001b[0m\u001b[0;34m\u001b[0m\u001b[0;34m\u001b[0m\u001b[0m\n\u001b[0m",
            "\u001b[0;32m<ipython-input-11-3899bdceb5ad>\u001b[0m in \u001b[0;36madd\u001b[0;34m(x, y)\u001b[0m\n\u001b[1;32m      2\u001b[0m \u001b[0;34m\u001b[0m\u001b[0m\n\u001b[1;32m      3\u001b[0m \u001b[0;32mdef\u001b[0m \u001b[0madd\u001b[0m\u001b[0;34m(\u001b[0m\u001b[0mx\u001b[0m\u001b[0;34m,\u001b[0m\u001b[0my\u001b[0m\u001b[0;34m)\u001b[0m\u001b[0;34m:\u001b[0m\u001b[0;34m\u001b[0m\u001b[0;34m\u001b[0m\u001b[0m\n\u001b[0;32m----> 4\u001b[0;31m     \u001b[0;32mreturn\u001b[0m \u001b[0mx\u001b[0m\u001b[0;34m+\u001b[0m\u001b[0my\u001b[0m\u001b[0;34m\u001b[0m\u001b[0;34m\u001b[0m\u001b[0m\n\u001b[0m",
            "\u001b[0;31mTypeError\u001b[0m: unsupported operand type(s) for +: 'dict' and 'dict'"
          ]
        }
      ]
    },
    {
      "cell_type": "markdown",
      "metadata": {
        "id": "WOBaP70BQ1iF"
      },
      "source": [
        "Функция может быть любой сложности и возвращать любые объекты: от строк и чисел до списков, кортежей, множеств, словарей и даже других функций!"
      ]
    },
    {
      "cell_type": "code",
      "metadata": {
        "id": "HbIrUegGQj5M"
      },
      "source": [
        "def unique(x): # простая функция, выдающая уникальный набор элементов в объекте\n",
        "    x=set(x)\n",
        "    return x"
      ],
      "execution_count": null,
      "outputs": []
    },
    {
      "cell_type": "code",
      "metadata": {
        "id": "RO-7hY7dRlF3",
        "colab": {
          "base_uri": "https://localhost:8080/",
          "height": 34
        },
        "outputId": "f0cfd290-d844-489a-f8e1-2a3c536e6f27"
      },
      "source": [
        "poem  = \"The rose is a rose and was always a rose.\"\n",
        "\n",
        "poem = poem.strip(\".-:!?–,\").lower().split() #предобратобка\n",
        "\n",
        "unique(poem) # множество уникальных токенов "
      ],
      "execution_count": null,
      "outputs": [
        {
          "output_type": "execute_result",
          "data": {
            "text/plain": [
              "{'a', 'always', 'and', 'is', 'rose', 'the', 'was'}"
            ]
          },
          "metadata": {
            "tags": []
          },
          "execution_count": 19
        }
      ]
    },
    {
      "cell_type": "code",
      "metadata": {
        "id": "rZML1f3_SVau"
      },
      "source": [
        "def ne_tak_li(): # в теле функции можно задать любое действие (не одно), и даже новую функцию!\n",
        "    def your_phrase(): # создаем функцию, которая существует внутри большой функции\n",
        "        res = input(\"скажите что-нибудь:\")\n",
        "        return res # получили значение\n",
        "    final_res = your_phrase()+\", не так ли?\" #вызвали функцию в функции, получили ее значение, добавили к нему новую строку\n",
        "    return final_res # выдаем финальный результат"
      ],
      "execution_count": null,
      "outputs": []
    },
    {
      "cell_type": "code",
      "metadata": {
        "id": "Q5VXlraCU8V6",
        "colab": {
          "base_uri": "https://localhost:8080/",
          "height": 51
        },
        "outputId": "498500fa-7117-44a5-a13e-ce5b1728bae5"
      },
      "source": [
        "ne_tak_li()"
      ],
      "execution_count": null,
      "outputs": [
        {
          "output_type": "stream",
          "text": [
            "скажите что-нибудь:хорошая погода\n"
          ],
          "name": "stdout"
        },
        {
          "output_type": "execute_result",
          "data": {
            "text/plain": [
              "'хорошая погода, не так ли?'"
            ]
          },
          "metadata": {
            "tags": []
          },
          "execution_count": 21
        }
      ]
    },
    {
      "cell_type": "code",
      "metadata": {
        "id": "FUN_ywNqU-Cl"
      },
      "source": [
        "# более полезная функция\n",
        "\n",
        "def normalize(text):\n",
        "    normalized = text.lower().translate(str.maketrans('','',string.punctuation)).split()\n",
        "    return normalized"
      ],
      "execution_count": null,
      "outputs": []
    },
    {
      "cell_type": "code",
      "metadata": {
        "id": "TZ5Zkha9c0uk",
        "colab": {
          "base_uri": "https://localhost:8080/",
          "height": 697
        },
        "outputId": "db5692da-7a61-4048-cd0c-d274ee07e7c0"
      },
      "source": [
        "# попробуем на тексте: \n",
        "\n",
        "news = \"I had heard that McDonald\\'s never decompose so I just wanted to see if it was true\\\n",
        "or not,\\\" Hjortur Smarason told AFP. This week, it's 10 years since the seemingly\\\n",
        "indestructible meal was purchased, and it barely looks a day older.\"\n",
        "\n",
        "print(normalize(news)) # вызвали функцию, передали переменную с текстом в виде аргумента\n"
      ],
      "execution_count": null,
      "outputs": [
        {
          "output_type": "stream",
          "text": [
            "['i', 'had', 'heard', 'that', 'mcdonalds', 'never', 'decompose', 'so', 'i', 'just', 'wanted', 'to', 'see', 'if', 'it', 'was', 'trueor', 'not', 'hjortur', 'smarason', 'told', 'afp', 'this', 'week', 'its', '10', 'years', 'since', 'the', 'seeminglyindestructible', 'meal', 'was', 'purchased', 'and', 'it', 'barely', 'looks', 'a', 'day', 'older']\n"
          ],
          "name": "stdout"
        }
      ]
    },
    {
      "cell_type": "markdown",
      "metadata": {
        "id": "kt9JszRTgh4-"
      },
      "source": [
        "### Аргументы функции\n",
        "Функция может принимать произвольное количество аргументов (или не принимать вообще). \n",
        "\n",
        "Существуют функции с произвольным числом аргументов, функции с позиционными и именованными аргументами, обязательными и необязательными.\n",
        "\n",
        "давайте разбираться\n",
        "\n",
        "1. позиционные и именованные аргументы"
      ]
    },
    {
      "cell_type": "code",
      "metadata": {
        "id": "dVnd5e7Ge_M4"
      },
      "source": [
        "def birthday1(name, age):\n",
        "    print( \"С днем рождения , \", name , \"!\", \" Вам сегодня исполняется\", age)"
      ],
      "execution_count": null,
      "outputs": []
    },
    {
      "cell_type": "markdown",
      "metadata": {
        "id": "X9CQVWnpoGzF"
      },
      "source": [
        "**позиционные аргументы**\n",
        "\n",
        "важен порядок ввода"
      ]
    },
    {
      "cell_type": "code",
      "metadata": {
        "id": "kdwjGqLQmduF",
        "colab": {
          "base_uri": "https://localhost:8080/",
          "height": 34
        },
        "outputId": "c9abcb8e-afa2-4319-af28-b54f0609ef74"
      },
      "source": [
        "birthday1(\"дорогой друг\" , 1)"
      ],
      "execution_count": null,
      "outputs": [
        {
          "output_type": "stream",
          "text": [
            "С днем рождения ,  дорогой друг !  Вам сегодня исполняется 1\n"
          ],
          "name": "stdout"
        }
      ]
    },
    {
      "cell_type": "code",
      "metadata": {
        "id": "igl8L9MvnmLk",
        "colab": {
          "base_uri": "https://localhost:8080/",
          "height": 34
        },
        "outputId": "0b4c9313-9be7-43a7-bd9f-3e0816fb51d9"
      },
      "source": [
        "#    Проблема позиционных аргументов \n",
        "birthday1(1, \" дорогой друг\") # поменяли аргументы местами"
      ],
      "execution_count": null,
      "outputs": [
        {
          "output_type": "stream",
          "text": [
            "С днем рождения ,  1 !  Вам сегодня исполняется  дорогой друг\n"
          ],
          "name": "stdout"
        }
      ]
    },
    {
      "cell_type": "markdown",
      "metadata": {
        "id": "o-xxHvGSn3a4"
      },
      "source": [
        "**именные аргументы**\n",
        "\n",
        "Вне зависимости от порядка, все хорошо."
      ]
    },
    {
      "cell_type": "code",
      "metadata": {
        "id": "atGOHsObmoGy",
        "colab": {
          "base_uri": "https://localhost:8080/",
          "height": 34
        },
        "outputId": "dee6d4c3-cd25-4d78-a352-c23811cc568c"
      },
      "source": [
        "birthday1( name = \"дорогой друг\", age = 1) "
      ],
      "execution_count": null,
      "outputs": [
        {
          "output_type": "stream",
          "text": [
            "С днем рождения ,  дорогой друг !  Вам сегодня исполняется 1\n"
          ],
          "name": "stdout"
        }
      ]
    },
    {
      "cell_type": "code",
      "metadata": {
        "id": "oHbEHLVKmxnw",
        "colab": {
          "base_uri": "https://localhost:8080/",
          "height": 34
        },
        "outputId": "a7642b6d-14ef-4920-c914-ae0e1720047d"
      },
      "source": [
        "birthday1(age = 1, name = \"дорогой друг\")"
      ],
      "execution_count": null,
      "outputs": [
        {
          "output_type": "stream",
          "text": [
            "С днем рождения ,  дорогой друг !  Вам сегодня исполняется 1\n"
          ],
          "name": "stdout"
        }
      ]
    },
    {
      "cell_type": "markdown",
      "metadata": {
        "id": "35XQO46vo9XO"
      },
      "source": [
        "Функция может принимать переменное количество позиционных аргументов,\n",
        "\n",
        "тогда в скобках, в поле для аргумента ставится ```*args```:\n",
        "\n",
        "\n"
      ]
    },
    {
      "cell_type": "code",
      "metadata": {
        "id": "h_6eRkMwoz2S"
      },
      "source": [
        "def arg_func(*args):\n",
        "     return args\n",
        "     "
      ],
      "execution_count": null,
      "outputs": []
    },
    {
      "cell_type": "markdown",
      "metadata": {
        "id": "2Cw-3d5Vp_IX"
      },
      "source": [
        "args - это кортеж из всех переданных аргументов функции"
      ]
    },
    {
      "cell_type": "code",
      "metadata": {
        "id": "WJQUliLVpawM",
        "colab": {
          "base_uri": "https://localhost:8080/",
          "height": 34
        },
        "outputId": "6d0bcca5-365c-45ad-f2cb-e53e5703bb20"
      },
      "source": [
        "x = arg_func(2.3,\"Jane\",\"hello\",77)\n",
        "y = arg_func(23,{0,6,8})\n",
        "\n",
        "#что может быть в аргументах? \n",
        "\n",
        "z = x+y\n",
        "print(z)"
      ],
      "execution_count": null,
      "outputs": [
        {
          "output_type": "stream",
          "text": [
            "(2.3, 'Jane', 'hello', 77, 23, {0, 8, 6})\n"
          ],
          "name": "stdout"
        }
      ]
    },
    {
      "cell_type": "markdown",
      "metadata": {
        "id": "TGQYue3Hr_t1"
      },
      "source": [
        "Функция может принимать и произвольное число именованных аргументов\n",
        "\n",
        "тогда перед именем ставится ```**kwargs```:"
      ]
    },
    {
      "cell_type": "code",
      "metadata": {
        "id": "Crz46XlTpkJO"
      },
      "source": [
        " def kwargs_func(**kwargs):\n",
        "    return kwargs"
      ],
      "execution_count": null,
      "outputs": []
    },
    {
      "cell_type": "code",
      "metadata": {
        "id": "KcG0djEAsKg8",
        "colab": {
          "base_uri": "https://localhost:8080/",
          "height": 34
        },
        "outputId": "8071e02e-55d9-47b3-a2a6-e060be89c4df"
      },
      "source": [
        "kwargs_func(a=1, b=2, c=3)"
      ],
      "execution_count": null,
      "outputs": [
        {
          "output_type": "execute_result",
          "data": {
            "text/plain": [
              "{'a': 1, 'b': 2, 'c': 3}"
            ]
          },
          "metadata": {
            "tags": []
          },
          "execution_count": 38
        }
      ]
    },
    {
      "cell_type": "markdown",
      "metadata": {
        "id": "r3xTtBdysbdl"
      },
      "source": [
        "переменная kwargs - это словарь!"
      ]
    },
    {
      "cell_type": "markdown",
      "metadata": {
        "id": "Kjx2bycnsi9p"
      },
      "source": [
        "### бонус: lambda func"
      ]
    },
    {
      "cell_type": "markdown",
      "metadata": {
        "id": "-AjT1BdWsvvx"
      },
      "source": [
        "Анонимные функции:\n",
        "* могут содержать лишь одно действие\n",
        "* выполняются быстрее\n",
        "* не обязательно присваивать переменной (не нужен def)\n",
        "* не требуется return\n",
        "\n",
        "\n",
        "обычно используются для одноразовых функций \n",
        "\n",
        "создаются с помощью ключевого слова ```lambda```"
      ]
    },
    {
      "cell_type": "code",
      "metadata": {
        "id": "tQoxZXdPsWFc"
      },
      "source": [
        "func = lambda x, y: x + y  # задали (до двоеточия аргументы, после - действие с ними)"
      ],
      "execution_count": null,
      "outputs": []
    },
    {
      "cell_type": "code",
      "metadata": {
        "id": "XKyQxTNVtTML",
        "colab": {
          "base_uri": "https://localhost:8080/",
          "height": 34
        },
        "outputId": "7796ece3-5ad5-48c3-cc34-bad7991aea0f"
      },
      "source": [
        "func(1, 2) # вызываем, подав аргументы"
      ],
      "execution_count": null,
      "outputs": [
        {
          "output_type": "execute_result",
          "data": {
            "text/plain": [
              "3"
            ]
          },
          "metadata": {
            "tags": []
          },
          "execution_count": 40
        }
      ]
    },
    {
      "cell_type": "code",
      "metadata": {
        "id": "vOoz51D-tgTP",
        "colab": {
          "base_uri": "https://localhost:8080/",
          "height": 34
        },
        "outputId": "e1c067e5-90ea-4143-c293-9a58046ed895"
      },
      "source": [
        "func(\"i write\",\" code in Python\") # подаем строки как аргументы, их тоже можно конкатенировать"
      ],
      "execution_count": null,
      "outputs": [
        {
          "output_type": "execute_result",
          "data": {
            "text/plain": [
              "'i write code in Python'"
            ]
          },
          "metadata": {
            "tags": []
          },
          "execution_count": 41
        }
      ]
    },
    {
      "cell_type": "code",
      "metadata": {
        "id": "XgANxc7htyKZ"
      },
      "source": [
        "func = lambda *args: [i*2 for i in list(args)] \n",
        "# можно подавать циклы в виде list comprehension"
      ],
      "execution_count": null,
      "outputs": []
    },
    {
      "cell_type": "code",
      "metadata": {
        "id": "zqEJLXxPuJ0d",
        "colab": {
          "base_uri": "https://localhost:8080/",
          "height": 34
        },
        "outputId": "596f878b-c375-480d-8fbb-285d4e9e8182"
      },
      "source": [
        "func(1, 2, 3, 4)"
      ],
      "execution_count": null,
      "outputs": [
        {
          "output_type": "execute_result",
          "data": {
            "text/plain": [
              "[2, 4, 6, 8]"
            ]
          },
          "metadata": {
            "tags": []
          },
          "execution_count": 43
        }
      ]
    },
    {
      "cell_type": "markdown",
      "metadata": {
        "id": "ylixGHVOvAqB"
      },
      "source": [
        "## Homework\n",
        "\n",
        "*Сделайте одну задачу на выбор. Выполнение больше одной приветствуется*"
      ]
    },
    {
      "cell_type": "markdown",
      "metadata": {
        "id": "WbpgWXdHvgV8"
      },
      "source": [
        "**Задача 1.**  Напишите генератор названий компаний (почти как генератор паролей). \n",
        "Пусть в названии компании будет 6 частей, рандомно выбирающихся из списка names."
      ]
    },
    {
      "cell_type": "code",
      "metadata": {
        "id": "lIwa6cOqvcTs",
        "colab": {
          "base_uri": "https://localhost:8080/"
        },
        "outputId": "054c2943-4b9a-476f-f4cc-f0e1a14d681c"
      },
      "source": [
        "# генератор названий компаний\n",
        "\n",
        "import random\n",
        "\n",
        "names = [\"пром\",\"агро\",\"торг\",\"урал\",\"север\",\"юг\",\"техно\",\n",
        "\"экспо\",\"метал\",\"нефть\",\"сельхоз\",\"фарм\",\"строй\",\n",
        "\"кредит\",\"алмаз\",\"-девелопмент\",\"развитие\",\"мос\",\n",
        "\"рос\",\"кубань\",\"сибирь\",\"восток\",\"нано\",\"софт\",\n",
        "\"микро\",\"онлайн\",\"инвест\",\"текстиль\",\"цемент\"]\n",
        "company = \"\"\n",
        "for x in range(6):\n",
        "  company = company + random.choice(names)\n",
        "print(company.capitalize())\n",
        "\n",
        "\n",
        "\n",
        "# запустите ячейку несклько раз"
      ],
      "execution_count": 18,
      "outputs": [
        {
          "output_type": "stream",
          "text": [
            "Росмикротехностройразвитиепром\n"
          ],
          "name": "stdout"
        }
      ]
    },
    {
      "cell_type": "markdown",
      "metadata": {
        "id": "2yJufW6c1J2r"
      },
      "source": [
        "**Задача 2.** Транслитератор-2, более сложный\n",
        "\n",
        "Примерный порядок действий: \n",
        "\n",
        "1. напишите побуквенный транслитератор с кириллицы на латиницу(можно использовать написанный в прошлый раз)\n",
        "\n",
        "2. \"оберните\" ваш код транслитератора в функцию (т.е.сам код транслитератора будет в теле функции. Опишите функцию: как она называется, что у нее за аргументы, что она возвращает на выходе)\n",
        "\n",
        "3. Вызовите функцию: примените функцию к тексту (возьмите любой, на ваш выбор, длиной от 2 до 4 предложений. Хорошая идея - искать в статьях на Википедии)\n",
        "    \n",
        "    3.1. чтобы работать с текстом, сохраните его в переменную\n",
        "\n"
      ]
    },
    {
      "cell_type": "code",
      "metadata": {
        "id": "nLXkCSqM-3Ac"
      },
      "source": [
        "def function (slovo):\n",
        "   trans = {\n",
        "          'а':'a',\n",
        "          'б':'b',\n",
        "          'в':'v',\n",
        "          'г':'g',\n",
        "          'д':'d',\n",
        "          'е':'e',\n",
        "          'ё':'yo',\n",
        "          'ж':'zh',\n",
        "          'з':'z',\n",
        "          'и':'i',\n",
        "          'й':'y',\n",
        "          'к':'k',\n",
        "          'л':'l',\n",
        "          'м':'m',\n",
        "          'н':'n',\n",
        "          'о':'o',\n",
        "          'п':'p',\n",
        "          'р':'r',\n",
        "          'с':'s',\n",
        "          'т':'t',\n",
        "          'у':'u',\n",
        "          'ф':'f',\n",
        "          'х':'h',\n",
        "          'ц':'ts',\n",
        "          'ч':'ch',\n",
        "          'ш':'sh',\n",
        "          'щ':'shch',\n",
        "          'ъ':'y',\n",
        "          'ы':'y',\n",
        "          'ь':\"'\",\n",
        "          'э':'e',\n",
        "          'ю':'yu',\n",
        "          'я':'ya', \n",
        "          } \n",
        "   slovo1 = list(slovo)\n",
        "   result=\"\"\n",
        "   for i in slovo1:\n",
        "      result += trans.get(i)\n",
        "   return result\n",
        "   print(result)\n",
        "\n"
      ],
      "execution_count": 13,
      "outputs": []
    },
    {
      "cell_type": "code",
      "metadata": {
        "colab": {
          "base_uri": "https://localhost:8080/",
          "height": 35
        },
        "id": "zIOAeH8faa0H",
        "outputId": "cb25c656-abe3-4c46-f96b-b4df398d96f3"
      },
      "source": [
        "function (\"пружина\")"
      ],
      "execution_count": 14,
      "outputs": [
        {
          "output_type": "execute_result",
          "data": {
            "application/vnd.google.colaboratory.intrinsic+json": {
              "type": "string"
            },
            "text/plain": [
              "'pruzhina'"
            ]
          },
          "metadata": {
            "tags": []
          },
          "execution_count": 14
        }
      ]
    },
    {
      "cell_type": "markdown",
      "metadata": {
        "id": "WV3OUMmf8gmC"
      },
      "source": [
        "**Задача 3.** Усовершенствованный генератор паролей\n",
        "\n",
        "Используя генератор паролей описанный в начале тетрадки, создайте свой. Пароли, получаемые в результате, должны удовлетворять следующим условиям: \n",
        "     - длина пароля - 15 символов\n",
        "     - в пароле есть 3 заглавные буквы (любые, в любом месте пароля)\n",
        "     - в пароле есть 4 цифры (любые, в любом месте)\n",
        "     - оставшиеся символы пароля - строчные латинские буквы"
      ]
    },
    {
      "cell_type": "code",
      "metadata": {
        "id": "Mm3FYaIJ99GJ",
        "colab": {
          "base_uri": "https://localhost:8080/"
        },
        "outputId": "b439435f-a062-413e-96d1-a12f5a791c01"
      },
      "source": [
        "import random\n",
        "passw1 = ''\n",
        "passw2 = ''\n",
        "passw3 = ''\n",
        "parol = ''\n",
        "parol1 = ''\n",
        "\n",
        "\n",
        "for x in range(3): \n",
        "    passw1 = passw1 + random.choice('123456789')\n",
        "for y in range(4): \n",
        "     passw2 = passw2 + random.choice('QWERTYUIOPASDFGHJKLZXCVBNM')\n",
        "for z in range(8):    \n",
        "    passw3 = passw3 + random.choice('qwertyuiopasdfghjklzxcvbnm')\n",
        "parol = passw1 + passw2 + passw3\n",
        "for w in range(15):\n",
        "    parol1 = parol1 + random.choice(parol)\n",
        "print(parol1)\n",
        "\n"
      ],
      "execution_count": null,
      "outputs": [
        {
          "output_type": "stream",
          "text": [
            "s1tt4QpcsRcQk44\n"
          ],
          "name": "stdout"
        }
      ]
    }
  ]
}