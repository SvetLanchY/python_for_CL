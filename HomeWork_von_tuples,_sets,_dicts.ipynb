{
  "nbformat": 4,
  "nbformat_minor": 0,
  "metadata": {
    "colab": {
      "name": "Kopie von tuples, sets, dicts.ipynb",
      "provenance": [],
      "collapsed_sections": [
        "YPY75dCcrW7f",
        "LKlVNlBfjJHx",
        "zDDJ_qsdqvk-"
      ],
      "include_colab_link": true
    },
    "kernelspec": {
      "display_name": "Python 3",
      "language": "python",
      "name": "python3"
    },
    "language_info": {
      "codemirror_mode": {
        "name": "ipython",
        "version": 3
      },
      "file_extension": ".py",
      "mimetype": "text/x-python",
      "name": "python",
      "nbconvert_exporter": "python",
      "pygments_lexer": "ipython3",
      "version": "3.8.2"
    }
  },
  "cells": [
    {
      "cell_type": "markdown",
      "metadata": {
        "id": "view-in-github",
        "colab_type": "text"
      },
      "source": [
        "<a href=\"https://colab.research.google.com/github/SvetLanchY/python_for_CL/blob/master/HomeWork_von_tuples%2C_sets%2C_dicts.ipynb\" target=\"_parent\"><img src=\"https://colab.research.google.com/assets/colab-badge.svg\" alt=\"Open In Colab\"/></a>"
      ]
    },
    {
      "cell_type": "markdown",
      "metadata": {
        "id": "fKK1NqdSabRi"
      },
      "source": [
        "*Сегодня мы поговорим о новых типах данных: кортежах, множествах и словарях*"
      ]
    },
    {
      "cell_type": "code",
      "metadata": {
        "id": "GoSNAcx-mdLt"
      },
      "source": [
        ""
      ],
      "execution_count": null,
      "outputs": []
    },
    {
      "cell_type": "markdown",
      "metadata": {
        "id": "LKlVNlBfjJHx"
      },
      "source": [
        "##**Множество (set)**\n",
        "\n",
        "это тоже \"контейнер\" для данных, но в отличие от листа(списка), он содержит уникальные, не повторяющиеся элементы.\n",
        "\n",
        "Давайте создадим множество:\n",
        "\n",
        "    1. с помощью функуии set()\n",
        "\n"
      ]
    },
    {
      "cell_type": "code",
      "metadata": {
        "id": "BaShf-dHlOtZ",
        "outputId": "ebf81e8f-221a-4657-da4f-703bc105292e",
        "colab": {
          "base_uri": "https://localhost:8080/",
          "height": 51
        }
      },
      "source": [
        "set(\"heLlo\")\n",
        "print(set([37, 25, \"öjgg\"]))\n",
        "print(set((37,25, \"jnkjköj\")))"
      ],
      "execution_count": null,
      "outputs": [
        {
          "output_type": "stream",
          "text": [
            "{25, 37, 'öjgg'}\n",
            "{25, 'jnkjköj', 37}\n"
          ],
          "name": "stdout"
        }
      ]
    },
    {
      "cell_type": "code",
      "metadata": {
        "id": "_EopXMulaUrO",
        "outputId": "4cc750b4-05cf-4ce7-d11c-5db466e8e7dd",
        "colab": {
          "base_uri": "https://localhost:8080/",
          "height": 68
        }
      },
      "source": [
        "fruits = [\"apples\",\"peaches\",\"cherries\",\"pears\",\"oranges\",\"persimmons\"] # задали список, сохранили в переменную\n",
        "#  проверим его тип:\n",
        "print(type(fruits)) # list\n",
        "# давайте изменим тип на set с помощью функции set()\n",
        "\n",
        "fruits = set(fruits) #применили функцию, пересохранили переменную\n",
        "\n",
        "#проверим ее тип еще раз \n",
        "print(type(fruits)) # set \n",
        "\n",
        "type(fruits)\n"
      ],
      "execution_count": null,
      "outputs": [
        {
          "output_type": "stream",
          "text": [
            "<class 'list'>\n",
            "<class 'set'>\n"
          ],
          "name": "stdout"
        },
        {
          "output_type": "execute_result",
          "data": {
            "text/plain": [
              "set"
            ]
          },
          "metadata": {
            "tags": []
          },
          "execution_count": 130
        }
      ]
    },
    {
      "cell_type": "markdown",
      "metadata": {
        "id": "Iq05WnEfmTFK"
      },
      "source": [
        "    2. с помощью литерала {} "
      ]
    },
    {
      "cell_type": "code",
      "metadata": {
        "id": "p81krk1FlIDE",
        "outputId": "51ee68b9-dc02-40e3-bac1-4a0a7ae4c192",
        "colab": {
          "base_uri": "https://localhost:8080/",
          "height": 34
        }
      },
      "source": [
        "new_set = {2,5.9,\"apples\", False}  # создали переменную, сложили в нее некоторые объекты\n",
        "# можем складывать в множество объекты разных типов: числовые, строковые, логические\n",
        "\n",
        "# давайте проверим, что new_set действительно множество\n",
        "print(type(new_set))\n"
      ],
      "execution_count": null,
      "outputs": [
        {
          "output_type": "stream",
          "text": [
            "<class 'set'>\n"
          ],
          "name": "stdout"
        }
      ]
    },
    {
      "cell_type": "markdown",
      "metadata": {
        "id": "ydhwxVHInUMi"
      },
      "source": [
        "    NB! обратите внимание, что в отличие от листа, множество нельзя задать пустым литералом и что-то в него добавлять"
      ]
    },
    {
      "cell_type": "code",
      "metadata": {
        "id": "oLz-iV-1muUf",
        "outputId": "dd529d6f-583e-4235-d80f-b386115e9e72",
        "colab": {
          "base_uri": "https://localhost:8080/",
          "height": 51
        }
      },
      "source": [
        "another_set = {} # создали пустое....\n",
        "\n",
        "# ....множество? Давайте проверим тип созданной переменной \n",
        "\n",
        "print(type(another_set)) \n",
        "\n",
        "\"\"\" это не множество, это словарь! (о них мы поговорим позже). \n",
        "Давайте пока запомним главное: множества не задаются пустыми литералами \"\"\" "
      ],
      "execution_count": null,
      "outputs": [
        {
          "output_type": "stream",
          "text": [
            "<class 'dict'>\n"
          ],
          "name": "stdout"
        },
        {
          "output_type": "execute_result",
          "data": {
            "text/plain": [
              "' это не множество, это словарь! (о них мы поговорим позже). \\nДавайте пока запомним главное: множества не задаются пустыми литералами '"
            ]
          },
          "metadata": {
            "tags": []
          },
          "execution_count": 19
        }
      ]
    },
    {
      "cell_type": "markdown",
      "metadata": {
        "id": "y4CRSI6nolqC"
      },
      "source": [
        "Множества удобно использовать для удаления повторяющихся элементов:"
      ]
    },
    {
      "cell_type": "code",
      "metadata": {
        "id": "1NhqLbvingJ0",
        "outputId": "e94f1c52-6d0b-499d-fa09-8628feef48e2",
        "colab": {
          "base_uri": "https://localhost:8080/",
          "height": 34
        }
      },
      "source": [
        "cars = [\"BMW\",\"Toyota\",\"Bentley\",\"Jeep\",\"Jeep\"]\n",
        "cars = set(cars)\n",
        "cars"
      ],
      "execution_count": null,
      "outputs": [
        {
          "output_type": "execute_result",
          "data": {
            "text/plain": [
              "{'BMW', 'Bentley', 'Jeep', 'Toyota'}"
            ]
          },
          "metadata": {
            "tags": []
          },
          "execution_count": 160
        }
      ]
    },
    {
      "cell_type": "markdown",
      "metadata": {
        "id": "lv9JQUBkplRh"
      },
      "source": [
        "операции со множествами"
      ]
    },
    {
      "cell_type": "code",
      "metadata": {
        "id": "rz7uZycLpVDQ",
        "outputId": "665daf99-0efc-45d3-d2c5-3bbdc23bb607",
        "colab": {
          "base_uri": "https://localhost:8080/",
          "height": 34
        }
      },
      "source": [
        "#число элементов в множестве (размер множества).\n",
        "len(cars) "
      ],
      "execution_count": null,
      "outputs": [
        {
          "output_type": "execute_result",
          "data": {
            "text/plain": [
              "4"
            ]
          },
          "metadata": {
            "tags": []
          },
          "execution_count": 134
        }
      ]
    },
    {
      "cell_type": "code",
      "metadata": {
        "id": "Y6fK44Icpw9F",
        "outputId": "7f36c759-bf34-404f-e9df-d8e7a9aab051",
        "colab": {
          "base_uri": "https://localhost:8080/",
          "height": 34
        }
      },
      "source": [
        "# x in s - принадлежит ли x множеству s. Возвращает True/False\n",
        "\n",
        "\"Kia\" in cars\n",
        "# \"Jeep\" in cars"
      ],
      "execution_count": null,
      "outputs": [
        {
          "output_type": "execute_result",
          "data": {
            "text/plain": [
              "False"
            ]
          },
          "metadata": {
            "tags": []
          },
          "execution_count": 139
        }
      ]
    },
    {
      "cell_type": "markdown",
      "metadata": {
        "id": "uG4DH-lYqdbb"
      },
      "source": [
        "И операции, изменяющие множество:"
      ]
    },
    {
      "cell_type": "code",
      "metadata": {
        "id": "KgU_LV5BA-Us",
        "outputId": "efa3c3f9-e95d-43bd-c696-d56a1c316391",
        "colab": {
          "base_uri": "https://localhost:8080/",
          "height": 34
        }
      },
      "source": [
        "#добавляем элемент в множество\n",
        "#elem = \n",
        "cars.add(\"VolskWagen\")\n",
        "cars "
      ],
      "execution_count": null,
      "outputs": [
        {
          "output_type": "execute_result",
          "data": {
            "text/plain": [
              "{'BMW', 'Bentley', 'Jeep', 'Toyota', 'VolskWagen'}"
            ]
          },
          "metadata": {
            "tags": []
          },
          "execution_count": 140
        }
      ]
    },
    {
      "cell_type": "code",
      "metadata": {
        "id": "Huof99PqqGor",
        "outputId": "d5229aa9-af1b-4b0d-d7f6-4b718ca71df9",
        "colab": {
          "base_uri": "https://localhost:8080/",
          "height": 34
        }
      },
      "source": [
        "# добавляем множество во множество\n",
        "french_cars = {\"Peugeot\", \"Citroën\", \"Renault\"}\n",
        "cars.update(french_cars)\n",
        "cars"
      ],
      "execution_count": null,
      "outputs": [
        {
          "output_type": "execute_result",
          "data": {
            "text/plain": [
              "{'BMW', 'Bentley', 'Citroën', 'Jeep', 'Peugeot', 'Renault', 'Toyota'}"
            ]
          },
          "metadata": {
            "tags": []
          },
          "execution_count": 161
        }
      ]
    },
    {
      "cell_type": "code",
      "metadata": {
        "id": "T85OTjscCEOo",
        "outputId": "99b35d05-58b5-4bf5-93d5-9f679f606a1c",
        "colab": {
          "base_uri": "https://localhost:8080/",
          "height": 34
        }
      },
      "source": [
        "# удаляем элемент из множества. \n",
        "cars.remove(\"Jeep\")\n",
        "cars"
      ],
      "execution_count": null,
      "outputs": [
        {
          "output_type": "execute_result",
          "data": {
            "text/plain": [
              "{'BMW', 'Bentley', 'Citroën', 'Peugeot', 'Renault', 'Toyota', 'VolskWagen'}"
            ]
          },
          "metadata": {
            "tags": []
          },
          "execution_count": 142
        }
      ]
    },
    {
      "cell_type": "code",
      "metadata": {
        "id": "Q1-ymgelCR7C",
        "outputId": "24660a37-05cb-4698-90cb-4924a42d95a8",
        "colab": {
          "base_uri": "https://localhost:8080/",
          "height": 163
        }
      },
      "source": [
        "# KeyError, если такого элемента не существует.\n",
        "cars.remove(\"Lamborgini\")"
      ],
      "execution_count": null,
      "outputs": [
        {
          "output_type": "error",
          "ename": "KeyError",
          "evalue": "ignored",
          "traceback": [
            "\u001b[0;31m---------------------------------------------------------------------------\u001b[0m",
            "\u001b[0;31mKeyError\u001b[0m                                  Traceback (most recent call last)",
            "\u001b[0;32m<ipython-input-143-4e59839bee15>\u001b[0m in \u001b[0;36m<module>\u001b[0;34m()\u001b[0m\n\u001b[0;32m----> 1\u001b[0;31m \u001b[0mcars\u001b[0m\u001b[0;34m.\u001b[0m\u001b[0mremove\u001b[0m\u001b[0;34m(\u001b[0m\u001b[0;34m\"Lamborgini\"\u001b[0m\u001b[0;34m)\u001b[0m\u001b[0;34m\u001b[0m\u001b[0;34m\u001b[0m\u001b[0m\n\u001b[0m",
            "\u001b[0;31mKeyError\u001b[0m: 'Lamborgini'"
          ]
        }
      ]
    },
    {
      "cell_type": "code",
      "metadata": {
        "id": "3myR0EyVCYhc"
      },
      "source": [
        "cars.discard(\"Lamborgini\") # удаляет элемент, если он находится в множестве.\n",
        "# Если элемента нет, не поднимает ошибку"
      ],
      "execution_count": null,
      "outputs": []
    },
    {
      "cell_type": "code",
      "metadata": {
        "id": "MtMXFJd7C6PB",
        "outputId": "2ca867f8-bf67-4cf6-c9cc-4bd1453a0fc9",
        "colab": {
          "base_uri": "https://localhost:8080/",
          "height": 51
        }
      },
      "source": [
        "# удаляет первый элемент\n",
        "print(cars)\n",
        "cars.pop()\n",
        "\n",
        "# запустите несколько раз, посмотрите на результат"
      ],
      "execution_count": null,
      "outputs": [
        {
          "output_type": "stream",
          "text": [
            "{'Jeep', 'Renault', 'BMW', 'Citroën'}\n"
          ],
          "name": "stdout"
        },
        {
          "output_type": "execute_result",
          "data": {
            "text/plain": [
              "'Jeep'"
            ]
          },
          "metadata": {
            "tags": []
          },
          "execution_count": 154
        }
      ]
    },
    {
      "cell_type": "code",
      "metadata": {
        "id": "9D-k4CWQDJBi",
        "outputId": "01f12316-fbfb-40a1-c329-e7a069373efe",
        "colab": {
          "base_uri": "https://localhost:8080/",
          "height": 34
        }
      },
      "source": [
        "# очищаем множество\n",
        "\n",
        "cars.clear()\n",
        "cars"
      ],
      "execution_count": null,
      "outputs": [
        {
          "output_type": "execute_result",
          "data": {
            "text/plain": [
              "set()"
            ]
          },
          "metadata": {
            "tags": []
          },
          "execution_count": 155
        }
      ]
    },
    {
      "cell_type": "markdown",
      "metadata": {
        "id": "xqvSy9Hyqr0Q"
      },
      "source": [
        "математические операции со множествами"
      ]
    },
    {
      "cell_type": "code",
      "metadata": {
        "id": "phO-apGeDa_7",
        "outputId": "8434ab0b-3442-4b4f-fc0c-bfbe39ff971e",
        "colab": {
          "base_uri": "https://localhost:8080/",
          "height": 34
        }
      },
      "source": [
        "fruits # возьмем наше множество фруктов"
      ],
      "execution_count": null,
      "outputs": [
        {
          "output_type": "execute_result",
          "data": {
            "text/plain": [
              "{'apples', 'cherries', 'oranges', 'peaches', 'pears', 'persimmons'}"
            ]
          },
          "metadata": {
            "tags": []
          },
          "execution_count": 156
        }
      ]
    },
    {
      "cell_type": "code",
      "metadata": {
        "id": "lm7L0evHqbVQ",
        "outputId": "e03cf812-654f-4568-b45d-03c42427fe28",
        "colab": {
          "base_uri": "https://localhost:8080/",
          "height": 34
        }
      },
      "source": [
        "berries = {\"strawberry\", \"red currant\"}\n",
        "fruits.isdisjoint(berries) # True, если множества  не имеют общих элементов."
      ],
      "execution_count": null,
      "outputs": [
        {
          "output_type": "execute_result",
          "data": {
            "text/plain": [
              "True"
            ]
          },
          "metadata": {
            "tags": []
          },
          "execution_count": 157
        }
      ]
    },
    {
      "cell_type": "code",
      "metadata": {
        "id": "Xvl3ribkEAZH",
        "outputId": "44eb93d0-c28a-47da-db9d-c3d573bdad7e",
        "colab": {
          "base_uri": "https://localhost:8080/",
          "height": 34
        }
      },
      "source": [
        "fruits == berries\n",
        " # True если все элементы set принадлежат other,\n",
        " # все элементы other принадлежат set."
      ],
      "execution_count": null,
      "outputs": [
        {
          "output_type": "execute_result",
          "data": {
            "text/plain": [
              "False"
            ]
          },
          "metadata": {
            "tags": []
          },
          "execution_count": 158
        }
      ]
    },
    {
      "cell_type": "code",
      "metadata": {
        "id": "ELuzu41lEORu",
        "outputId": "4af4b623-09cc-4858-c41d-205a66ed9837",
        "colab": {
          "base_uri": "https://localhost:8080/",
          "height": 34
        }
      },
      "source": [
        "#berries.issubset(fruits) # является ли подмножеством\n",
        " french_cars  <= cars\n",
        "# fruits <= berries # True если все элементы berries принадлежат fruits."
      ],
      "execution_count": null,
      "outputs": [
        {
          "output_type": "execute_result",
          "data": {
            "text/plain": [
              "True"
            ]
          },
          "metadata": {
            "tags": []
          },
          "execution_count": 163
        }
      ]
    },
    {
      "cell_type": "code",
      "metadata": {
        "id": "Nwd7FzFPEsD1",
        "outputId": "a2b2dfb4-3c7e-4f06-e35d-d7a1acde77e4",
        "colab": {
          "base_uri": "https://localhost:8080/",
          "height": 34
        }
      },
      "source": [
        "#fruits.issuperset(berries) # аналогично, но в обратную сторону\n",
        "# berries >= fruits\n",
        "   cars >= french_cars"
      ],
      "execution_count": null,
      "outputs": [
        {
          "output_type": "execute_result",
          "data": {
            "text/plain": [
              "True"
            ]
          },
          "metadata": {
            "tags": []
          },
          "execution_count": 165
        }
      ]
    },
    {
      "cell_type": "code",
      "metadata": {
        "id": "K2rxv2lnFD3z",
        "outputId": "d5712719-6073-4206-edc8-4acbf17a5586",
        "colab": {
          "base_uri": "https://localhost:8080/",
          "height": 153
        }
      },
      "source": [
        "fruits.union(berries) # объединение нескольких множеств \n",
        "# fruits | berries"
      ],
      "execution_count": null,
      "outputs": [
        {
          "output_type": "execute_result",
          "data": {
            "text/plain": [
              "{'apples',\n",
              " 'cherries',\n",
              " 'oranges',\n",
              " 'peaches',\n",
              " 'pears',\n",
              " 'persimmons',\n",
              " 'red currant',\n",
              " 'strawberry'}"
            ]
          },
          "metadata": {
            "tags": []
          },
          "execution_count": 166
        }
      ]
    },
    {
      "cell_type": "code",
      "metadata": {
        "id": "fXN6VpSoFVQb",
        "outputId": "272c677d-f3ee-47ab-a887-fd04759aa412",
        "colab": {
          "base_uri": "https://localhost:8080/",
          "height": 34
        }
      },
      "source": [
        "#  пересечение множеств \n",
        " # пустое, у них нет общих элементов\n",
        "\n",
        "# давайте добавим арбуз \n",
        "\n",
        "fruits.add(\"watermelon\")\n",
        "berries.add(\"watermelon\")\n",
        "\n",
        "fruits.intersection(berries)\n",
        "\n",
        "# fruits & berries\n"
      ],
      "execution_count": null,
      "outputs": [
        {
          "output_type": "execute_result",
          "data": {
            "text/plain": [
              "{'watermelon'}"
            ]
          },
          "metadata": {
            "tags": []
          },
          "execution_count": 169
        }
      ]
    },
    {
      "cell_type": "markdown",
      "metadata": {
        "id": "zDDJ_qsdqvk-"
      },
      "source": [
        "### еще один вид множества - frozenset\n",
        "\n",
        "    set изменяемый, frozenset - нет"
      ]
    },
    {
      "cell_type": "code",
      "metadata": {
        "id": "1RHX7pXrq-42",
        "outputId": "dd8cc282-1f74-40c9-a1f6-e653f1055ec5",
        "colab": {
          "base_uri": "https://localhost:8080/",
          "height": 34
        }
      },
      "source": [
        "a = set(\"random\")\n",
        "b = frozenset('Random')\n",
        "a == b # давайте сравним множества"
      ],
      "execution_count": null,
      "outputs": [
        {
          "output_type": "execute_result",
          "data": {
            "text/plain": [
              "False"
            ]
          },
          "metadata": {
            "tags": []
          },
          "execution_count": 171
        }
      ]
    },
    {
      "cell_type": "code",
      "metadata": {
        "id": "yipvU3j8G44r",
        "outputId": "7425365b-f29d-4633-e42c-62603c3a814f",
        "colab": {
          "base_uri": "https://localhost:8080/",
          "height": 34
        }
      },
      "source": [
        "a.add(1) #добавим элемент в первое множество\n",
        "a"
      ],
      "execution_count": null,
      "outputs": [
        {
          "output_type": "execute_result",
          "data": {
            "text/plain": [
              "{1, 'a', 'd', 'm', 'n', 'o', 'r'}"
            ]
          },
          "metadata": {
            "tags": []
          },
          "execution_count": 172
        }
      ]
    },
    {
      "cell_type": "code",
      "metadata": {
        "id": "fvu33GL8HR7z",
        "outputId": "d6463421-95d6-4b46-8f9b-2b551f1aec71",
        "colab": {
          "base_uri": "https://localhost:8080/",
          "height": 180
        }
      },
      "source": [
        "b.add(2)\n",
        "# мы не можем добавлять в frozenset"
      ],
      "execution_count": null,
      "outputs": [
        {
          "output_type": "error",
          "ename": "AttributeError",
          "evalue": "ignored",
          "traceback": [
            "\u001b[0;31m---------------------------------------------------------------------------\u001b[0m",
            "\u001b[0;31mAttributeError\u001b[0m                            Traceback (most recent call last)",
            "\u001b[0;32m<ipython-input-173-4ce5d07a229d>\u001b[0m in \u001b[0;36m<module>\u001b[0;34m()\u001b[0m\n\u001b[0;32m----> 1\u001b[0;31m \u001b[0mb\u001b[0m\u001b[0;34m.\u001b[0m\u001b[0madd\u001b[0m\u001b[0;34m(\u001b[0m\u001b[0;36m2\u001b[0m\u001b[0;34m)\u001b[0m\u001b[0;34m\u001b[0m\u001b[0;34m\u001b[0m\u001b[0m\n\u001b[0m\u001b[1;32m      2\u001b[0m \u001b[0;31m# мы не можем добавлять в frozenset\u001b[0m\u001b[0;34m\u001b[0m\u001b[0;34m\u001b[0m\u001b[0;34m\u001b[0m\u001b[0m\n",
            "\u001b[0;31mAttributeError\u001b[0m: 'frozenset' object has no attribute 'add'"
          ]
        }
      ]
    },
    {
      "cell_type": "markdown",
      "metadata": {
        "id": "tlHuy58XrIXg"
      },
      "source": [
        "##**Словарь (dict)**\n",
        "\n",
        "коллекции произвольных объектов, записанные в виде *ключ : значение*\n",
        "(ключи уникальные, значения могут повторяться)\n",
        "\n",
        "( словари =ассоциативные массивы = хеш-таблицы)\n",
        "\n",
        "\n",
        "Давайте создадим словарь:\n",
        "\n",
        "    1. С помощью литерала:\n",
        "\n"
      ]
    },
    {
      "cell_type": "code",
      "metadata": {
        "id": "v7zkTUDf2aas",
        "outputId": "c5e8ba5d-70df-43ac-cf77-7a8e12d2a18c",
        "colab": {
          "base_uri": "https://localhost:8080/",
          "height": 34
        }
      },
      "source": [
        "d = {}\n",
        "d"
      ],
      "execution_count": null,
      "outputs": [
        {
          "output_type": "execute_result",
          "data": {
            "text/plain": [
              "{}"
            ]
          },
          "metadata": {
            "tags": []
          },
          "execution_count": 174
        }
      ]
    },
    {
      "cell_type": "code",
      "metadata": {
        "id": "FWEpd9fTMCb_",
        "outputId": "3741eb49-5feb-4d2f-ea21-2777a4e0e251",
        "colab": {
          "base_uri": "https://localhost:8080/",
          "height": 34
        }
      },
      "source": [
        "d = {'Jane': \"London\", 'Olga': \"Moscow\"} \n",
        "# Jane, Olga - это ключи, London, Moscow - значения\n",
        "d"
      ],
      "execution_count": null,
      "outputs": [
        {
          "output_type": "execute_result",
          "data": {
            "text/plain": [
              "{'Jane': 'London', 'Olga': 'Moscow'}"
            ]
          },
          "metadata": {
            "tags": []
          },
          "execution_count": 175
        }
      ]
    },
    {
      "cell_type": "markdown",
      "metadata": {
        "id": "zD0WunDYNCgK"
      },
      "source": [
        "    2.  с помощью функции dict()"
      ]
    },
    {
      "cell_type": "code",
      "metadata": {
        "id": "OegQIs_HM9PH",
        "outputId": "0defad61-833a-4f7d-82df-c0df0ae4ea2b",
        "colab": {
          "base_uri": "https://localhost:8080/",
          "height": 34
        }
      },
      "source": [
        "d = dict(short='dict', long='dictionary')\n",
        "d"
      ],
      "execution_count": null,
      "outputs": [
        {
          "output_type": "execute_result",
          "data": {
            "text/plain": [
              "{'long': 'dictionary', 'short': 'dict'}"
            ]
          },
          "metadata": {
            "tags": []
          },
          "execution_count": 176
        }
      ]
    },
    {
      "cell_type": "markdown",
      "metadata": {
        "id": "EKOrrZLqN1J7"
      },
      "source": [
        "    3. с помощью генераторов словарей (почти как генераторы списков)\n",
        "\n"
      ]
    },
    {
      "cell_type": "code",
      "metadata": {
        "id": "GBmRj0fxN9ls",
        "outputId": "01714a8c-5cb9-483b-ec57-ddb1194d53b3",
        "colab": {
          "base_uri": "https://localhost:8080/",
          "height": 34
        }
      },
      "source": [
        "d = {a: a ** 2 for a in range(7)}\n",
        "d\n"
      ],
      "execution_count": null,
      "outputs": [
        {
          "output_type": "execute_result",
          "data": {
            "text/plain": [
              "{0: 0, 1: 1, 2: 4, 3: 9, 4: 16, 5: 25, 6: 36}"
            ]
          },
          "metadata": {
            "tags": []
          },
          "execution_count": 58
        }
      ]
    },
    {
      "cell_type": "markdown",
      "metadata": {
        "id": "8dZ0JjiBNSJD"
      },
      "source": [
        "##с помощью метода fromkeys:\n"
      ]
    },
    {
      "cell_type": "code",
      "metadata": {
        "id": "VFCqm0fQNNdF",
        "outputId": "9130d54d-6e84-49c1-8eec-5508372af4b8",
        "colab": {
          "base_uri": "https://localhost:8080/",
          "height": 34
        }
      },
      "source": [
        "d = dict.fromkeys(['a', 'b'])\n",
        "d"
      ],
      "execution_count": null,
      "outputs": [
        {
          "output_type": "execute_result",
          "data": {
            "text/plain": [
              "{'a': None, 'b': None}"
            ]
          },
          "metadata": {
            "tags": []
          },
          "execution_count": 59
        }
      ]
    },
    {
      "cell_type": "code",
      "metadata": {
        "id": "SJEYT0FnOQ17",
        "outputId": "1aa60338-4fd6-41df-eef5-bae7248e42c4",
        "colab": {
          "base_uri": "https://localhost:8080/",
          "height": 34
        }
      },
      "source": [
        "d = dict.fromkeys(['a', 'b'], 100)\n",
        "d"
      ],
      "execution_count": null,
      "outputs": [
        {
          "output_type": "execute_result",
          "data": {
            "text/plain": [
              "{'a': 100, 'b': 100}"
            ]
          },
          "metadata": {
            "tags": []
          },
          "execution_count": 60
        }
      ]
    },
    {
      "cell_type": "markdown",
      "metadata": {
        "id": "q3pHPiUEN-o4"
      },
      "source": [
        "###Теперь попробуем добавить записей в словарь и извлечь значения ключей\n",
        "\n",
        "извлекается синтаксисом: название_переменной_словаря[ключ]"
      ]
    },
    {
      "cell_type": "code",
      "metadata": {
        "id": "T-ie4DV8Or3-",
        "outputId": "a9102485-bff3-4aae-fe41-d5de688719f6",
        "colab": {
          "base_uri": "https://localhost:8080/",
          "height": 180
        }
      },
      "source": [
        "d = {1: 2, 2: 4, 3: 9}\n",
        "d[4] # достаем значение по ключу 1"
      ],
      "execution_count": null,
      "outputs": [
        {
          "output_type": "error",
          "ename": "KeyError",
          "evalue": "ignored",
          "traceback": [
            "\u001b[0;31m---------------------------------------------------------------------------\u001b[0m",
            "\u001b[0;31mKeyError\u001b[0m                                  Traceback (most recent call last)",
            "\u001b[0;32m<ipython-input-194-f61e22549310>\u001b[0m in \u001b[0;36m<module>\u001b[0;34m()\u001b[0m\n\u001b[1;32m      1\u001b[0m \u001b[0md\u001b[0m \u001b[0;34m=\u001b[0m \u001b[0;34m{\u001b[0m\u001b[0;36m1\u001b[0m\u001b[0;34m:\u001b[0m \u001b[0;36m2\u001b[0m\u001b[0;34m,\u001b[0m \u001b[0;36m2\u001b[0m\u001b[0;34m:\u001b[0m \u001b[0;36m4\u001b[0m\u001b[0;34m,\u001b[0m \u001b[0;36m3\u001b[0m\u001b[0;34m:\u001b[0m \u001b[0;36m9\u001b[0m\u001b[0;34m}\u001b[0m\u001b[0;34m\u001b[0m\u001b[0;34m\u001b[0m\u001b[0m\n\u001b[0;32m----> 2\u001b[0;31m \u001b[0md\u001b[0m\u001b[0;34m[\u001b[0m\u001b[0;36m4\u001b[0m\u001b[0;34m]\u001b[0m \u001b[0;31m# достаем значение по ключу 1\u001b[0m\u001b[0;34m\u001b[0m\u001b[0;34m\u001b[0m\u001b[0m\n\u001b[0m",
            "\u001b[0;31mKeyError\u001b[0m: 4"
          ]
        }
      ]
    },
    {
      "cell_type": "code",
      "metadata": {
        "id": "OBQcdKctOw5y",
        "outputId": "53d41beb-1009-4fe5-fd99-55791689916c",
        "colab": {
          "base_uri": "https://localhost:8080/",
          "height": 34
        }
      },
      "source": [
        "d[3] = 4 ** 2 # добавляем пару, где ключ =4, а значение = 4**2\n",
        "d # посмотрим на весь словарь"
      ],
      "execution_count": null,
      "outputs": [
        {
          "output_type": "execute_result",
          "data": {
            "text/plain": [
              "{1: 2, 2: 4, 3: 16}"
            ]
          },
          "metadata": {
            "tags": []
          },
          "execution_count": 179
        }
      ]
    },
    {
      "cell_type": "code",
      "metadata": {
        "id": "QFhtKbAk2RyR",
        "outputId": "1b84ec4f-4812-423f-c40c-d7f898855826",
        "colab": {
          "base_uri": "https://localhost:8080/",
          "height": 163
        }
      },
      "source": [
        "d = {}"
      ],
      "execution_count": null,
      "outputs": [
        {
          "output_type": "error",
          "ename": "TypeError",
          "evalue": "ignored",
          "traceback": [
            "\u001b[0;31m---------------------------------------------------------------------------\u001b[0m",
            "\u001b[0;31mTypeError\u001b[0m                                 Traceback (most recent call last)",
            "\u001b[0;32m<ipython-input-182-1fca65e8f571>\u001b[0m in \u001b[0;36m<module>\u001b[0;34m()\u001b[0m\n\u001b[0;32m----> 1\u001b[0;31m \u001b[0md\u001b[0m \u001b[0;34m=\u001b[0m \u001b[0;34m{\u001b[0m\u001b[0;34m[\u001b[0m\u001b[0;34m\"a\"\u001b[0m\u001b[0;34m,\u001b[0m\u001b[0;34m\"b\"\u001b[0m\u001b[0;34m]\u001b[0m\u001b[0;34m:\u001b[0m\u001b[0;36m34\u001b[0m\u001b[0;34m}\u001b[0m\u001b[0;34m\u001b[0m\u001b[0;34m\u001b[0m\u001b[0m\n\u001b[0m",
            "\u001b[0;31mTypeError\u001b[0m: unhashable type: 'list'"
          ]
        }
      ]
    },
    {
      "cell_type": "code",
      "metadata": {
        "id": "ejjlgfgGPFkh",
        "outputId": "051c0379-57ca-47f3-9877-88266d064ffc",
        "colab": {
          "base_uri": "https://localhost:8080/",
          "height": 163
        }
      },
      "source": [
        "# попробуем достать ключ, которого нет\n",
        "d[5]"
      ],
      "execution_count": null,
      "outputs": [
        {
          "output_type": "error",
          "ename": "KeyError",
          "evalue": "ignored",
          "traceback": [
            "\u001b[0;31m---------------------------------------------------------------------------\u001b[0m",
            "\u001b[0;31mKeyError\u001b[0m                                  Traceback (most recent call last)",
            "\u001b[0;32m<ipython-input-180-a47182b4f775>\u001b[0m in \u001b[0;36m<module>\u001b[0;34m()\u001b[0m\n\u001b[0;32m----> 1\u001b[0;31m \u001b[0md\u001b[0m\u001b[0;34m[\u001b[0m\u001b[0;36m5\u001b[0m\u001b[0;34m]\u001b[0m\u001b[0;34m\u001b[0m\u001b[0;34m\u001b[0m\u001b[0m\n\u001b[0m",
            "\u001b[0;31mKeyError\u001b[0m: 5"
          ]
        }
      ]
    },
    {
      "cell_type": "markdown",
      "metadata": {
        "id": "IIBoVsIkNA-4"
      },
      "source": [
        "**Итог:** присвоение по новому ключу расширяет словарь, присвоение по существующему ключу перезаписывает его, а попытка извлечения несуществующего ключа порождает исключение."
      ]
    },
    {
      "cell_type": "markdown",
      "metadata": {
        "id": "ZTR6wZxTMWiI"
      },
      "source": [
        "###методы словарей"
      ]
    },
    {
      "cell_type": "code",
      "metadata": {
        "id": "nMJsPhroSpzh"
      },
      "source": [
        "d = {'Jane': \"London\", 'Olga': \"Moscow\",\"Paul\":\"Paris\",\"Ivan\":\"Minsk\",\"Anne\":\"Copenhagen\"}"
      ],
      "execution_count": null,
      "outputs": []
    },
    {
      "cell_type": "code",
      "metadata": {
        "id": "GZhU7aHmQHxo",
        "outputId": "9f28c9b0-1759-4e50-f175-f761a71b51ac",
        "colab": {
          "base_uri": "https://localhost:8080/"
        }
      },
      "source": [
        "d.values() # возвращает значения в словаре"
      ],
      "execution_count": 51,
      "outputs": [
        {
          "output_type": "execute_result",
          "data": {
            "text/plain": [
              "dict_values(['а', 'б', 'в', 'г', 'д', 'е', 'ё', 'ж', 'з', 'и', 'й', 'к', 'л', 'м', 'н', 'о', 'п', 'р', 'с', 'т', 'у', 'ф', 'х', 'ц', 'ч', 'ш', 'щ', 'ь', 'ы', 'э', 'ю', 'я', ' '])"
            ]
          },
          "metadata": {
            "tags": []
          },
          "execution_count": 51
        }
      ]
    },
    {
      "cell_type": "code",
      "metadata": {
        "id": "J-qIp2K0QXAJ",
        "outputId": "42788176-9781-4d43-db0e-d47de9db731e",
        "colab": {
          "base_uri": "https://localhost:8080/",
          "height": 162
        }
      },
      "source": [
        "d.keys() # возвращает ключи в словаре"
      ],
      "execution_count": null,
      "outputs": [
        {
          "output_type": "error",
          "ename": "NameError",
          "evalue": "ignored",
          "traceback": [
            "\u001b[0;31m---------------------------------------------------------------------------\u001b[0m",
            "\u001b[0;31mNameError\u001b[0m                                 Traceback (most recent call last)",
            "\u001b[0;32m<ipython-input-6-a11a9c093929>\u001b[0m in \u001b[0;36m<module>\u001b[0;34m()\u001b[0m\n\u001b[0;32m----> 1\u001b[0;31m \u001b[0md\u001b[0m\u001b[0;34m.\u001b[0m\u001b[0mkeys\u001b[0m\u001b[0;34m(\u001b[0m\u001b[0;34m)\u001b[0m \u001b[0;31m# возвращает ключи в словаре\u001b[0m\u001b[0;34m\u001b[0m\u001b[0;34m\u001b[0m\u001b[0m\n\u001b[0m",
            "\u001b[0;31mNameError\u001b[0m: name 'd' is not defined"
          ]
        }
      ]
    },
    {
      "cell_type": "code",
      "metadata": {
        "id": "lOiQ2FSJQeo2",
        "outputId": "5d8b7dec-54b2-4418-cc12-2bfe06c7b7b5",
        "colab": {
          "base_uri": "https://localhost:8080/"
        }
      },
      "source": [
        "d.values() # возвращает пары (ключ, значение)"
      ],
      "execution_count": 53,
      "outputs": [
        {
          "output_type": "execute_result",
          "data": {
            "text/plain": [
              "dict_values(['а', 'б', 'в', 'г', 'д', 'е', 'ё', 'ж', 'з', 'и', 'й', 'к', 'л', 'м', 'н', 'о', 'п', 'р', 'с', 'т', 'у', 'ф', 'х', 'ц', 'ч', 'ш', 'щ', 'ь', 'ы', 'э', 'ю', 'я', ' '])"
            ]
          },
          "metadata": {
            "tags": []
          },
          "execution_count": 53
        }
      ]
    },
    {
      "cell_type": "code",
      "metadata": {
        "id": "WiY3C4j1Qmr6",
        "outputId": "71136ca8-7e89-4b3b-f12a-cc2a44e51bd7",
        "colab": {
          "base_uri": "https://localhost:8080/",
          "height": 136
        }
      },
      "source": [
        "new_dict = {\"Alexander\":\"Bonn\", \"Julia\":\"Madrid\"}\n",
        "d.update(new_dict) # обновляет словарь, добавляя пары (ключ, значение) из other. Существующие ключи перезаписываются. Возвращает None (не новый словарь!)\n",
        "d"
      ],
      "execution_count": null,
      "outputs": [
        {
          "output_type": "execute_result",
          "data": {
            "text/plain": [
              "{'Alexander': 'Bonn',\n",
              " 'Anne': 'Copenhagen',\n",
              " 'Ivan': 'Minsk',\n",
              " 'Jane': 'London',\n",
              " 'Julia': 'Madrid',\n",
              " 'Olga': 'Moscow',\n",
              " 'Paul': 'Paris'}"
            ]
          },
          "metadata": {
            "tags": []
          },
          "execution_count": 186
        }
      ]
    },
    {
      "cell_type": "code",
      "metadata": {
        "id": "HyWNwlktQ2W7",
        "outputId": "cab6d79e-01e4-4eae-b66d-582da096f0e4",
        "colab": {
          "base_uri": "https://localhost:8080/",
          "height": 119
        }
      },
      "source": [
        "d.pop(\"Julia\") # удаляет ключ и возвращает значение. Если ключа нет, возвращает default (по умолчанию бросает исключение).\n",
        "d"
      ],
      "execution_count": null,
      "outputs": [
        {
          "output_type": "execute_result",
          "data": {
            "text/plain": [
              "{'Alexander': 'Bonn',\n",
              " 'Anne': 'Copenhagen',\n",
              " 'Ivan': 'Minsk',\n",
              " 'Jane': 'London',\n",
              " 'Olga': 'Moscow',\n",
              " 'Paul': 'Paris'}"
            ]
          },
          "metadata": {
            "tags": []
          },
          "execution_count": 187
        }
      ]
    },
    {
      "cell_type": "code",
      "metadata": {
        "id": "CAdxOh82R04X",
        "outputId": "3cc299d6-250f-4cbd-ced9-b4cc7cd928d0",
        "colab": {
          "base_uri": "https://localhost:8080/",
          "height": 34
        }
      },
      "source": [
        "d.popitem() # удаляет и возвращает пару (ключ, значение)"
      ],
      "execution_count": null,
      "outputs": [
        {
          "output_type": "execute_result",
          "data": {
            "text/plain": [
              "('Anne', 'Copenhagen')"
            ]
          },
          "metadata": {
            "tags": []
          },
          "execution_count": 191
        }
      ]
    },
    {
      "cell_type": "code",
      "metadata": {
        "id": "QytfsewlSNWQ",
        "outputId": "15c8e33e-a28b-493b-c876-b8eb3f828696",
        "colab": {
          "base_uri": "https://localhost:8080/",
          "height": 34
        }
      },
      "source": [
        "d.get(\"Jane\") #выдает значение по ключу, ключ в скобках"
      ],
      "execution_count": null,
      "outputs": [
        {
          "output_type": "execute_result",
          "data": {
            "text/plain": [
              "'London'"
            ]
          },
          "metadata": {
            "tags": []
          },
          "execution_count": 107
        }
      ]
    },
    {
      "cell_type": "code",
      "metadata": {
        "id": "ycZAODtf5RK3",
        "outputId": "e07cceea-d741-4336-8bfe-ad2d6f90aef4",
        "colab": {
          "base_uri": "https://localhost:8080/"
        }
      },
      "source": [
        "! python3"
      ],
      "execution_count": null,
      "outputs": [
        {
          "output_type": "stream",
          "text": [
            "Python 3.6.9 (default, Oct  8 2020, 12:12:24) \n",
            "[GCC 8.4.0] on linux\n",
            "Type \"help\", \"copyright\", \"credits\" or \"license\" for more information.\n",
            ">>> \n",
            "KeyboardInterrupt\n",
            ">>> \n",
            "KeyboardInterrupt\n",
            ">>> "
          ],
          "name": "stdout"
        }
      ]
    },
    {
      "cell_type": "code",
      "metadata": {
        "id": "9m-epn1EMXDl",
        "outputId": "1fe0e439-47b0-4b43-ac05-7fca39965330",
        "colab": {
          "base_uri": "https://localhost:8080/",
          "height": 34
        }
      },
      "source": [
        "d.clear() # очищает словарь\n",
        "d"
      ],
      "execution_count": null,
      "outputs": [
        {
          "output_type": "execute_result",
          "data": {
            "text/plain": [
              "{}"
            ]
          },
          "metadata": {
            "tags": []
          },
          "execution_count": 197
        }
      ]
    },
    {
      "cell_type": "markdown",
      "metadata": {
        "id": "1euc6k4zMf7z"
      },
      "source": [
        "**C кортежами, списками, словарями и множествами можно использовать циклы for и while**"
      ]
    },
    {
      "cell_type": "markdown",
      "metadata": {
        "id": "Sl2iWnGs23DL"
      },
      "source": [
        "###classwork\n",
        "\n",
        "\n",
        "Определяем лучшего писателя отзывов. \n",
        "У вас есть четрые отзыва на фильм С.Кубрика \"Сияние\". Вам нужно определить, кто из авторов отзывов обладает наиболее развитым лексиконом ( таковым считаем самый длинный набор неповторяющихся слов в пределах одного отзыва). \n",
        "    для определения вам нужно: \n",
        "\n",
        "    1. Предобработать строку (см методы строк), сведя все к нижнему регистру, убрать пунктуацию.\n",
        "\n",
        "    2. Превратить строку в список \n",
        "    3. определить уникальные элементы в списке (надо что-то сделать со списком)\n",
        "    4. определить размер уникальных слов в пределах автора\n",
        "    5. определить наилучшего\n",
        "\n"
      ]
    },
    {
      "cell_type": "code",
      "metadata": {
        "id": "j5Nv1se228QQ",
        "outputId": "2307bfc6-5e8e-44c1-c14b-0b1f96d38e12",
        "colab": {
          "base_uri": "https://localhost:8080/"
        }
      },
      "source": [
        "paul = \"\"\"When this film first came out in 1980, I remember going to see it on opening night. \n",
        "This movie just scared the life out of me, which is what still happens every time\n",
        "I rent the video for a re-watch.I have seen The Shining at least six or seven times, and I still\n",
        "believe it to be simultaneously and paradoxically one of the most frightening and yet funniest\n",
        "films I've ever seen. Frightening because of the extraordinarily effective use of long shots\n",
        "to create feelings of isolation, convex lens shots to enhance surrealism, and meticulously scored\n",
        "music to bring tension levels to virtually unbearable levels. And \\\"funny\\\" because of Jack\n",
        "Nicholson's outrageous and in many cases ad-libbed onscreen antics. It never ceases to amaze me\n",
        "how The Shining is actually two films in one, both a comedy AND a horror flick. Ghostly \n",
        "apparitions of a strikingly menacing nature haunt much of the first half of the film, which\n",
        "gradually evolve into ever more serious physical threats as time progresses. Be that as it may,\n",
        "there is surprisingly little violence given the apparent intensity, but that is little comfort \n",
        "for the feint of heart as much of the terror is more implied than manifest. The Shining is a truly\n",
        "frightening movie that works symbolically on many levels, but is basically  about human \n",
        "shortcomings and the way they can be exploited by unconscious forces combined with weakness\n",
        "of will. This film scares the most just by using suggestion to turn your own imagination against\n",
        "you. The Shining is a brilliant cinematic masterpiece, the likes of which have never been seen\n",
        "before or since. Highly, highly recommended.\"\"\"\n",
        "\n",
        "\n",
        "\n",
        "\n",
        "jane = \"\"\"Chilling, majestic piece of cinematic fright, this film combines all the great elements\n",
        "of an intellectual thriller, with the grand vision of a director who has the instinctual capacity to pace a\n",
        "moody horror flick within the realm of his filmmaking genius that includes an eye for the original shot, \n",
        "an ice-cold soundtrack and an overall sense of dehumanization. This movie cuts through all the typical horror\n",
        "movies like a red-poker through a human eye, as it allows the viewer to not only feel the violence and psychosis of\n",
        "its protagonist, but appreciate the seed from which the derangement stems. One of the scariest things for people\n",
        "to face is the unknown and this film presents its plotting with just that thought in mind. The setting is perfect,\n",
        "in a desolate winter hideaway. The quietness of the moment is a character in itself, as the fermenting aggressor\n",
        "in Jack Torrance's mind wallows in this idle time, and breeds the devil's new playground. I always felt like the\n",
        "presence of evil was dormant in all of our minds, with only the circumstances of the moment, and the reasons given\n",
        "therein, needed to wake its violent ass and pounce over its unsuspecting victims. This film is a perfect example \n",
        "of this very thought.\"\"\"\n",
        "\n",
        "\n",
        "kate = \"\"\"What can I say about the scariest movie I have ever seen that has not already been said by others more\n",
        "articulate than yours truly? Do not view this film expecting to see a screen version of the Stephen King novel.\n",
        "Rather, this is a Stanley Kubrick film, and to fully appreciate it one should judge it within the context of\n",
        "Kubrick's entire body of work as a serious filmmaker. Thematically, THE SHINING relates most closely to 2001:\n",
        "A SPACE ODYSSEY, though flourishes of PATHS OF GLORY, A CLOCKWORK ORANGE and BARRY LYNDON do manage to\n",
        "figure prominently in the film's overall technique. In a nutshell (no pun intended), Jack Nicholson and Shelly\n",
        "Duvall co-star with Oregon's Timberline Lodge - enlisted to portray the exterior of the Overlook Hotel - in a\n",
        "story that appears on the surface to be about ghosts and insanity, but deals with issues of child abuse, \n",
        "immortality and duality. What the film might lack initially in terms of coherence is more than made up for in\n",
        "technique. Garrett Brown (the male voice in those old Molson Golden commercials), inventor of the Steadicam,\n",
        "chases young Danny Lloyd through hotel corridors and an amazing snow maze, providing magic-carpet-ride fluidity\n",
        "to scenes that ten years earlier would have been impossible to accomplish. If the film starts off too slow,\n",
        "remember who the director is. This man likes to take his time, and the results are well worth it: incredible\n",
        "aerial shots of the Overlook Hotel; horrific Diane Arbus-inspired twins staring directly at us; portentous room 237\n",
        "and its treasure trove of terrible secrets; elevators that gush rivers of blood in slow-motion; Jack Torrance's\n",
        "immortality found via the hotel (akin to David Bowman's journey through the Space Gate); and some of the best use\n",
        "of pre-existing music ever assembled for a motion picture.\"\"\"\n",
        "\n",
        "\n",
        "nick = \"\"\"I was never a big fan of horror movies. They usually try cheap tricks to scare their audiences like loud\n",
        "noises and creepy children. They usually lack originality and contain overacting galore. The only horror movie i\n",
        "like was Stir of Echoes with Kevin Bacon. It was well-acted, and had a great story. But it has been joined and\n",
        "maybe even surpassed by Stanley Kubrick's The Shining, quite possibly the scariest movie ever. The movie follows\n",
        "a writer (Jack Nicholson) and his family who agree to watch over a hotel while it is closed for the winter.\n",
        "There were rumors of the place being haunted and the last resident went crazy and murdered his family. But Jack is\n",
        "convinced it will be OK and he can use the quiet to overcome his writer's block. After months of solitude and\n",
        "silence however, Jack becomes a grumpy and later violent. Is it cabin fever or is there something in the hotel\n",
        "that is driving him mad? One of the creepiest parts about the movie is the feeling of isolation that Kubrick makes.\n",
        "The hotel is very silent, and the rooms are huge, yet always empty. It is also eerily calm when Jack's son\n",
        "is riding his bike through the barren hallways. Jack Nicholson's performance is also one of his very best, scaring\n",
        "the hell out of me and making me sure to get out once in awhile. My favorite scene is when he is talking to a ghost\n",
        "from inside a walk-in refrigerator. The Shining is tops for horror movies in my opinion, beating the snot out\n",
        "of crap like the Ring and The Blair Witch Project. It may be a oldie, but is definitely a goodie.\"\"\"\n",
        "\n",
        "import string\n",
        "paul1 = paul.translate(str.maketrans('','',string.punctuation))\n",
        "paul2 = paul1.lower()\n",
        "paul3 = paul2.split()\n",
        "paul4 = set(paul3)\n",
        "print(paul4)\n",
        "print(len(paul4))\n",
        "\n",
        "import string\n",
        "jane1 = jane.translate(str.maketrans('','',string.punctuation))\n",
        "jane2 = jane1.lower()\n",
        "jane3 = jane2.split()\n",
        "jane4 = set(jane3)\n",
        "print(jane4)\n",
        "print(len(jane4))\n",
        "\n",
        "import string\n",
        "kate1 = kate.translate(str.maketrans('','',string.punctuation))\n",
        "kate2 = kate1.lower()\n",
        "kate3 = kate2.split()\n",
        "kate4 = set(kate3)\n",
        "print(kate4)\n",
        "print(len(kate4))\n",
        "\n",
        "import string\n",
        "nick1 = nick.translate(str.maketrans('','',string.punctuation))\n",
        "nick2 = nick1.lower()\n",
        "nick3 = nick2.split()\n",
        "nick4 = set(nick3)\n",
        "print(nick4)\n",
        "print(len(nick4))\n",
        "\n",
        "P = len(paul4)\n",
        "J = len(jane4)\n",
        "K = len(kate4)\n",
        "N = len(nick4)\n",
        "Q = [P,J,K,N]\n",
        "print(Q)\n",
        "\n",
        "Best=[\"P\",\"J\",\"K\",\"N\"]\n",
        "z=zip(Q, Best)\n",
        "print(tuple(z))\n"
      ],
      "execution_count": null,
      "outputs": [
        {
          "output_type": "stream",
          "text": [
            "{'levels', 'never', 'the', 'half', 'little', 'movie', 'paradoxically', 'which', 'time', 'ghostly', 'haunt', 'frightening', 'progresses', 'given', 'times', 'comfort', 'to', 'scared', 'meticulously', 'music', 'gradually', 'comedy', 'long', 'create', 'suggestion', 'virtually', 'amaze', 'be', 'going', 'enhance', 'strikingly', 'onscreen', 'menacing', 'heart', 'because', 'rewatchi', 'both', 'six', 'antics', 'recommended', 'is', 'bring', 'may', 'turn', 'see', 'extraordinarily', 'than', 'but', 'one', 'and', 'apparitions', 'convex', 'came', 'ever', 'still', 'scored', 'violence', 'shining', 'most', 'nature', 'feelings', 'been', 'apparent', 'on', 'how', 'by', 'scares', 'outrageous', 'video', 'shots', 'effective', 'nicholsons', 'using', 'shortcomings', 'isolation', 'least', 'combined', 'brilliant', 'this', 'implied', 'likes', 'rent', 'horror', 'forces', 'first', 'tension', 'surrealism', 'cases', 'about', 'weakness', 'films', 'feint', 'as', 'surprisingly', 'exploited', 'me', 'ceases', 'serious', 'use', 'actually', 'you', 'or', 'masterpiece', 'when', 'for', 'ive', 'evolve', 'adlibbed', 'against', 'highly', 'threats', 'of', 'in', 'cinematic', 'out', 'there', 'seen', 'jack', 'funny', 'night', 'simultaneously', 'flick', 'more', 'have', 'at', 'yet', 'since', 'i', 'opening', 'it', '1980', 'happens', 'that', 'a', 'terror', 'truly', 'imagination', 'can', 'just', 'much', 'believe', 'physical', 'seven', 'film', 'two', 'manifest', 'with', 'remember', 'lens', 'your', 'intensity', 'life', 'they', 'before', 'unconscious', 'human', 'into', 'basically', 'works', 'way', 'many', 'own', 'what', 'every', 'funniest', 'symbolically', 'will', 'unbearable'}\n",
            "168\n",
            "{'grand', 'the', 'felt', 'unknown', 'movie', 'which', 'time', 'seed', 'over', 'eye', 'an', 'stems', 'typical', 'derangement', 'given', 'breeds', 'to', 'dehumanization', 'not', 'idle', 'aggressor', 'wake', 'evil', 'ass', 'realm', 'is', 'but', 'moment', 'one', 'and', 'genius', 'victims', 'filmmaking', 'appreciate', 'capacity', 'devils', 'thought', 'needed', 'violence', 'who', 'mind', 'desolate', 'thriller', 'chilling', 'from', 'playground', 'overall', 'combines', 'cuts', 'dormant', 'example', 'this', 'viewer', 'moody', 'original', 'instinctual', 'through', 'quietness', 'elements', 'people', 'its', 'piece', 'horror', 'setting', 'allows', 'circumstances', 'always', 'wallows', 'itself', 'therein', 'has', 'as', 'things', 'torrances', 'icecold', 'our', 'sense', 'presence', 'protagonist', 'includes', 'for', 'fright', 'movies', 'his', 'psychosis', 'like', 'of', 'soundtrack', 'in', 'new', 'violent', 'cinematic', 'vision', 'jack', 'within', 'flick', 'feel', 'great', 'scariest', 'i', 'majestic', 'perfect', 'it', 'hideaway', 'that', 'face', 'a', 'shot', 'plotting', 'just', 'was', 'redpoker', 'film', 'with', 'reasons', 'only', 'fermenting', 'human', 'character', 'pounce', 'minds', 'unsuspecting', 'winter', 'director', 'presents', 'very', 'pace', 'intellectual', 'all'}\n",
            "129\n",
            "{'the', 'movie', 'paths', 'abuse', 'starts', 'time', 'portray', 'bowmans', 'filmmaker', 'initially', 'an', 'ten', 'chases', 'male', 'rivers', 'to', 'not', 'closely', 'music', 'pun', 'kubricks', 'aerial', 'magiccarpetride', 'man', 'best', 'too', 'some', 'be', 'those', 'secrets', 'said', 'inventor', 'golden', 'odyssey', 'is', 'directly', 'child', 'see', 'motion', 'than', 'appears', 'but', 'incredible', 'one', 'and', 'duvall', 'appreciate', 'off', 'orange', 'entire', 'arbusinspired', 'ever', 'hotel', 'years', 'prominently', 'judge', 'costar', 'who', 'been', 'shining', 'most', 'on', 'intended', 'novel', 'by', 'overlook', 'young', 'lodge', 'screen', 'king', 'maze', 'well', 'shots', 'up', 'steadicam', 'others', 'stanley', 'view', 'overall', 'worth', 'might', 'stephen', 'relates', 'say', 'thematically', 'kubrick', 'glory', 'fluidity', 'are', 'though', 'terms', 'technique', 'this', 'snow', 'assembled', 'likes', 'surface', 'barry', 'slowmotion', 'articulate', 'expecting', 'through', 'figure', 'horrific', 'room', 'its', 'us', 'manage', 'preexisting', 'oregons', 'gate', 'about', 'space', 'enlisted', 'via', 'found', 'story', 'films', 'scenes', 'lloyd', 'slow', 'lack', 'has', 'made', 'as', 'danny', 'flourishes', 'torrances', 'no', 'nicholson', 'coherence', 'shelly', 'ghosts', 'garrett', 'blood', 'elevators', 'already', 'amazing', 'serious', 'if', 'use', 'commercials', 'work', 'rather', 'trove', 'context', 'deals', 'for', 'providing', 'would', 'his', 'results', 'issues', 'of', 'in', 'lyndon', 'version', 'seen', 'duality', 'picture', 'jack', 'within', 'timberline', 'exterior', 'more', 'have', 'at', 'scariest', 'do', 'insanity', 'i', 'should', 'yours', 'david', 'it', 'corridors', 'that', 'truly', 'a', 'akin', 'can', 'diane', 'gush', 'portentous', 'treasure', 'voice', 'staring', 'film', '237', 'with', 'remember', 'terrible', 'twins', 'earlier', 'clockwork', 'take', '2001', 'old', 'impossible', 'director', 'what', 'journey', 'nutshell', 'brown', 'body', 'immortality', 'accomplish', 'molson', 'fully'}\n",
            "209\n",
            "{'never', 'the', 'echoes', 'movie', 'over', 'months', 'rooms', 'follows', 'place', 'being', 'overacting', 'to', 'murdered', 'becomes', 'kubricks', 'wellacted', 'went', 'cabin', 'best', 'be', 'watch', 'joined', 'hell', 'grumpy', 'also', 'is', 'something', 'may', 'last', 'but', 'and', 'one', 'while', 'huge', 'tricks', 'after', 'later', 'contain', 'ever', 'hotel', 'stir', 'however', 'were', 'once', 'bacon', 'who', 'loud', 'sure', 'talking', 'barren', 'had', 'been', 'shining', 'haunted', 'project', 'opinion', 'feeling', 'inside', 'resident', 'by', 'from', 'oldie', 'noises', 'try', 'silence', 'making', 'ring', 'stanley', 'parts', 'makes', 'nicholsons', 'crap', 'kubrick', 'rumors', 'isolation', 'originality', 'solitude', 'writer', 'crazy', 'are', 'ok', 'cheap', 'tops', 'through', 'maybe', 'ghost', 'kevin', 'get', 'creepiest', 'horror', 'about', 'he', 'hallways', 'goodie', 'story', 'scene', 'always', 'lack', 'empty', 'has', 'silent', 'family', 'witch', 'scare', 'nicholson', 'walkin', 'me', 'awhile', 'use', 'or', 'riding', 'big', 'possibly', 'quite', 'performance', 'when', 'for', 'quiet', 'movies', 'favorite', 'agree', 'galore', 'definitely', 'his', 'like', 'overcome', 'writers', 'mad', 'of', 'violent', 'in', 'my', 'out', 'there', 'jack', 'him', 'son', 'great', 'scariest', 'yet', 'creepy', 'i', 'fan', 'fever', 'it', 'snot', 'that', 'eerily', 'blair', 'a', 'children', 'can', 'their', 'surpassed', 'calm', 'was', 'even', 'refrigerator', 'convinced', 'with', 'only', 'they', 'driving', 'winter', 'bike', 'usually', 'very', 'beating', 'scaring', 'will', 'audiences', 'jacks', 'block', 'closed'}\n",
            "174\n",
            "[168, 129, 209, 174]\n",
            "((168, 'P'), (129, 'J'), (209, 'K'), (174, 'N'))\n"
          ],
          "name": "stdout"
        }
      ]
    },
    {
      "cell_type": "markdown",
      "metadata": {
        "id": "hAgT52fP26V2"
      },
      "source": [
        "##homework"
      ]
    },
    {
      "cell_type": "markdown",
      "metadata": {
        "id": "cUiYXrAi3MMe"
      },
      "source": [
        "с помощью словаря создайте простой транслитератор: нужно, чтобы программа принимала с клавиатуры (у нас есть специальный оператор ввода с клавиатуры) слова, записанные кириллицей, и печатала результат латиницей. \n",
        "\n",
        "Пример: *собака >> sobaka*"
      ]
    },
    {
      "cell_type": "code",
      "metadata": {
        "id": "rMLAHbTHUmqz",
        "outputId": "03abe2a5-fd38-4e36-e942-46885d61b98e",
        "colab": {
          "base_uri": "https://localhost:8080/"
        }
      },
      "source": [
        "trans = {\n",
        "'а':'a',\n",
        "'б':'b',\n",
        "'в':'v',\n",
        "'г':'g',\n",
        "'д':'d',\n",
        "'е':'e',\n",
        "'ё':'yo',\n",
        "'ж':'zh',\n",
        "'з':'z',\n",
        "'и':'i',\n",
        "'й':'y',\n",
        "'к':'k',\n",
        "'л':'l',\n",
        "'м':'m',\n",
        "'н':'n',\n",
        "'о':'o',\n",
        "'п':'p',\n",
        "'р':'r',\n",
        "'с':'s',\n",
        "'т':'t',\n",
        "'у':'u',\n",
        "'ф':'f',\n",
        "'х':'h',\n",
        "'ц':'ts',\n",
        "'ч':'ch',\n",
        "'ш':'sh',\n",
        "'щ':'shch',\n",
        "'ъ':'y',\n",
        "'ы':'y',\n",
        "'ь':\"'\",\n",
        "'э':'e',\n",
        "'ю':'yu',\n",
        "'я':'ya',\n",
        "}\n",
        "\n",
        "slovo = input ()\n",
        "slovo1 = list(slovo)\n",
        "result=\"\"\n",
        "for i in slovo1:\n",
        "  result += trans.get(i)\n",
        "print(result)\n",
        "\n",
        "\n",
        "\n",
        "\n"
      ],
      "execution_count": 73,
      "outputs": [
        {
          "output_type": "stream",
          "text": [
            "бабушка\n",
            "babushka\n"
          ],
          "name": "stdout"
        }
      ]
    }
  ]
}